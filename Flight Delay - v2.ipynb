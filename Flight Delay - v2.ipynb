{
 "cells": [
  {
   "cell_type": "code",
   "execution_count": 1,
   "metadata": {
    "collapsed": true
   },
   "outputs": [],
   "source": [
    "import pandas as pd\n",
    "import numpy as np\n",
    "import matplotlib.pyplot as plt"
   ]
  },
  {
   "cell_type": "code",
   "execution_count": 305,
   "metadata": {
    "collapsed": true
   },
   "outputs": [],
   "source": [
    "data = pd.read_csv('Data_PredictingFlightDelays.csv',header=None)"
   ]
  },
  {
   "cell_type": "code",
   "execution_count": 306,
   "metadata": {
    "collapsed": true
   },
   "outputs": [],
   "source": [
    "# Rename col names regarding to the direction file\n",
    "data.columns = ['canceled','month','departureTime','uniqueCarrier','schedElapsedTime','arrDelay','depDelay','distance']"
   ]
  },
  {
   "cell_type": "markdown",
   "metadata": {},
   "source": [
    "# Data Exploration"
   ]
  },
  {
   "cell_type": "code",
   "execution_count": 6,
   "metadata": {
    "collapsed": false
   },
   "outputs": [
    {
     "data": {
      "text/html": [
       "<div>\n",
       "<table border=\"1\" class=\"dataframe\">\n",
       "  <thead>\n",
       "    <tr style=\"text-align: right;\">\n",
       "      <th></th>\n",
       "      <th>canceled</th>\n",
       "      <th>month</th>\n",
       "      <th>departureTime</th>\n",
       "      <th>uniqueCarrier</th>\n",
       "      <th>schedElapsedTime</th>\n",
       "      <th>arrDelay</th>\n",
       "      <th>depDelay</th>\n",
       "      <th>distance</th>\n",
       "    </tr>\n",
       "  </thead>\n",
       "  <tbody>\n",
       "    <tr>\n",
       "      <th>0</th>\n",
       "      <td>1</td>\n",
       "      <td>12</td>\n",
       "      <td>814</td>\n",
       "      <td>UA</td>\n",
       "      <td>134</td>\n",
       "      <td>0</td>\n",
       "      <td>0</td>\n",
       "      <td>679</td>\n",
       "    </tr>\n",
       "    <tr>\n",
       "      <th>1</th>\n",
       "      <td>1</td>\n",
       "      <td>12</td>\n",
       "      <td>830</td>\n",
       "      <td>DL</td>\n",
       "      <td>90</td>\n",
       "      <td>0</td>\n",
       "      <td>0</td>\n",
       "      <td>214</td>\n",
       "    </tr>\n",
       "    <tr>\n",
       "      <th>2</th>\n",
       "      <td>1</td>\n",
       "      <td>1</td>\n",
       "      <td>1835</td>\n",
       "      <td>UA</td>\n",
       "      <td>213</td>\n",
       "      <td>0</td>\n",
       "      <td>0</td>\n",
       "      <td>1605</td>\n",
       "    </tr>\n",
       "  </tbody>\n",
       "</table>\n",
       "</div>"
      ],
      "text/plain": [
       "   canceled  month  departureTime uniqueCarrier  schedElapsedTime  arrDelay  \\\n",
       "0         1     12            814            UA               134         0   \n",
       "1         1     12            830            DL                90         0   \n",
       "2         1      1           1835            UA               213         0   \n",
       "\n",
       "   depDelay  distance  \n",
       "0         0       679  \n",
       "1         0       214  \n",
       "2         0      1605  "
      ]
     },
     "execution_count": 6,
     "metadata": {},
     "output_type": "execute_result"
    }
   ],
   "source": [
    "data.head(3)"
   ]
  },
  {
   "cell_type": "code",
   "execution_count": 5,
   "metadata": {
    "collapsed": false
   },
   "outputs": [
    {
     "name": "stdout",
     "output_type": "stream",
     "text": [
      "<class 'pandas.core.frame.DataFrame'>\n",
      "RangeIndex: 6000 entries, 0 to 5999\n",
      "Data columns (total 8 columns):\n",
      "canceled            6000 non-null int64\n",
      "month               6000 non-null int64\n",
      "departureTime       6000 non-null int64\n",
      "uniqueCarrier       6000 non-null object\n",
      "schedElapsedTime    6000 non-null int64\n",
      "arrDelay            6000 non-null int64\n",
      "depDelay            6000 non-null int64\n",
      "distance            6000 non-null int64\n",
      "dtypes: int64(7), object(1)\n",
      "memory usage: 375.1+ KB\n"
     ]
    }
   ],
   "source": [
    "data.info()"
   ]
  },
  {
   "cell_type": "code",
   "execution_count": 7,
   "metadata": {
    "collapsed": false
   },
   "outputs": [
    {
     "data": {
      "text/html": [
       "<div>\n",
       "<table border=\"1\" class=\"dataframe\">\n",
       "  <thead>\n",
       "    <tr style=\"text-align: right;\">\n",
       "      <th></th>\n",
       "      <th>canceled</th>\n",
       "      <th>month</th>\n",
       "      <th>departureTime</th>\n",
       "      <th>schedElapsedTime</th>\n",
       "      <th>arrDelay</th>\n",
       "      <th>depDelay</th>\n",
       "      <th>distance</th>\n",
       "    </tr>\n",
       "  </thead>\n",
       "  <tbody>\n",
       "    <tr>\n",
       "      <th>count</th>\n",
       "      <td>6000.000000</td>\n",
       "      <td>6000.000000</td>\n",
       "      <td>6000.000000</td>\n",
       "      <td>6000.000000</td>\n",
       "      <td>6000.000000</td>\n",
       "      <td>6000.000000</td>\n",
       "      <td>6000.000000</td>\n",
       "    </tr>\n",
       "    <tr>\n",
       "      <th>mean</th>\n",
       "      <td>0.166667</td>\n",
       "      <td>6.220167</td>\n",
       "      <td>1330.466500</td>\n",
       "      <td>161.693500</td>\n",
       "      <td>8.113000</td>\n",
       "      <td>9.148833</td>\n",
       "      <td>987.588833</td>\n",
       "    </tr>\n",
       "    <tr>\n",
       "      <th>std</th>\n",
       "      <td>0.372709</td>\n",
       "      <td>3.436325</td>\n",
       "      <td>459.118234</td>\n",
       "      <td>78.064979</td>\n",
       "      <td>35.763134</td>\n",
       "      <td>31.669299</td>\n",
       "      <td>646.666931</td>\n",
       "    </tr>\n",
       "    <tr>\n",
       "      <th>min</th>\n",
       "      <td>0.000000</td>\n",
       "      <td>1.000000</td>\n",
       "      <td>5.000000</td>\n",
       "      <td>40.000000</td>\n",
       "      <td>-72.000000</td>\n",
       "      <td>-16.000000</td>\n",
       "      <td>68.000000</td>\n",
       "    </tr>\n",
       "    <tr>\n",
       "      <th>25%</th>\n",
       "      <td>0.000000</td>\n",
       "      <td>3.000000</td>\n",
       "      <td>930.000000</td>\n",
       "      <td>105.000000</td>\n",
       "      <td>-8.000000</td>\n",
       "      <td>-3.000000</td>\n",
       "      <td>547.000000</td>\n",
       "    </tr>\n",
       "    <tr>\n",
       "      <th>50%</th>\n",
       "      <td>0.000000</td>\n",
       "      <td>6.000000</td>\n",
       "      <td>1325.000000</td>\n",
       "      <td>145.000000</td>\n",
       "      <td>0.000000</td>\n",
       "      <td>0.000000</td>\n",
       "      <td>837.000000</td>\n",
       "    </tr>\n",
       "    <tr>\n",
       "      <th>75%</th>\n",
       "      <td>0.000000</td>\n",
       "      <td>9.000000</td>\n",
       "      <td>1715.000000</td>\n",
       "      <td>200.000000</td>\n",
       "      <td>10.000000</td>\n",
       "      <td>6.000000</td>\n",
       "      <td>1249.000000</td>\n",
       "    </tr>\n",
       "    <tr>\n",
       "      <th>max</th>\n",
       "      <td>1.000000</td>\n",
       "      <td>12.000000</td>\n",
       "      <td>2359.000000</td>\n",
       "      <td>604.000000</td>\n",
       "      <td>410.000000</td>\n",
       "      <td>387.000000</td>\n",
       "      <td>4502.000000</td>\n",
       "    </tr>\n",
       "  </tbody>\n",
       "</table>\n",
       "</div>"
      ],
      "text/plain": [
       "          canceled        month  departureTime  schedElapsedTime     arrDelay  \\\n",
       "count  6000.000000  6000.000000    6000.000000       6000.000000  6000.000000   \n",
       "mean      0.166667     6.220167    1330.466500        161.693500     8.113000   \n",
       "std       0.372709     3.436325     459.118234         78.064979    35.763134   \n",
       "min       0.000000     1.000000       5.000000         40.000000   -72.000000   \n",
       "25%       0.000000     3.000000     930.000000        105.000000    -8.000000   \n",
       "50%       0.000000     6.000000    1325.000000        145.000000     0.000000   \n",
       "75%       0.000000     9.000000    1715.000000        200.000000    10.000000   \n",
       "max       1.000000    12.000000    2359.000000        604.000000   410.000000   \n",
       "\n",
       "          depDelay     distance  \n",
       "count  6000.000000  6000.000000  \n",
       "mean      9.148833   987.588833  \n",
       "std      31.669299   646.666931  \n",
       "min     -16.000000    68.000000  \n",
       "25%      -3.000000   547.000000  \n",
       "50%       0.000000   837.000000  \n",
       "75%       6.000000  1249.000000  \n",
       "max     387.000000  4502.000000  "
      ]
     },
     "execution_count": 7,
     "metadata": {},
     "output_type": "execute_result"
    }
   ],
   "source": [
    "data.describe()"
   ]
  },
  {
   "cell_type": "code",
   "execution_count": 10,
   "metadata": {
    "collapsed": false
   },
   "outputs": [
    {
     "data": {
      "text/plain": [
       "array(['UA', 'DL', 'AA'], dtype=object)"
      ]
     },
     "execution_count": 10,
     "metadata": {},
     "output_type": "execute_result"
    }
   ],
   "source": [
    "# Check the unique values in the only categorical variable\n",
    "data.uniqueCarrier.unique()"
   ]
  },
  {
   "cell_type": "code",
   "execution_count": 94,
   "metadata": {
    "collapsed": false
   },
   "outputs": [
    {
     "data": {
      "image/png": "[encoded data removed]",
      "text/plain": [
       "<matplotlib.figure.Figure at 0x11b717690>"
      ]
     },
     "metadata": {},
     "output_type": "display_data"
    }
   ],
   "source": [
    "fig, ax = plt.subplots()\n",
    "plt.rcParams[\"figure.figsize\"] = (4,4)\n",
    "data.canceled.value_counts().plot(kind='bar')\n",
    "plt.title('Canceled or not') \n",
    "plt.ylabel('Number of flights')\n",
    "for rect, label in zip(ax.patches, list(data.canceled.value_counts().values)):\n",
    "    height = rect.get_height()\n",
    "    ax.text(rect.get_x() + rect.get_width()/2, height + 0.05, label, ha='center', va='bottom')\n",
    "plt.show()"
   ]
  },
  {
   "cell_type": "code",
   "execution_count": 313,
   "metadata": {
    "collapsed": false
   },
   "outputs": [
    {
     "data": {
      "image/png": "[encoded data removed]",
      "text/plain": [
       "<matplotlib.figure.Figure at 0x11afd6710>"
      ]
     },
     "metadata": {},
     "output_type": "display_data"
    }
   ],
   "source": [
    "plt.rcParams[\"figure.figsize\"] = (8,4)\n",
    "month_0 = data.month[data.canceled == 0].value_counts()\n",
    "month_1 = data.month[data.canceled == 1].value_counts()\n",
    "month_df = pd.DataFrame({'Canceled':month_1, 'Not canceled':month_0})\n",
    "month_df.plot(kind='bar', stacked=True)\n",
    "plt.title('Canceled or not by month distribution')\n",
    "plt.xlabel('Month') \n",
    "plt.ylabel('Number of flights') \n",
    "plt.show()"
   ]
  },
  {
   "cell_type": "code",
   "execution_count": 26,
   "metadata": {
    "collapsed": false
   },
   "outputs": [
    {
     "data": {
      "image/png": "[encoded data removed]",
      "text/plain": [
       "<matplotlib.figure.Figure at 0x118aadc90>"
      ]
     },
     "metadata": {},
     "output_type": "display_data"
    }
   ],
   "source": [
    "plt.rcParams[\"figure.figsize\"] = (4,4)\n",
    "carrier_0 = data.uniqueCarrier[data.canceled == 0].value_counts()\n",
    "carrier_1 = data.uniqueCarrier[data.canceled == 1].value_counts()\n",
    "carrier_df = pd.DataFrame({'Canceled':carrier_1, 'Not canceled':carrier_0})\n",
    "carrier_df.plot(kind='bar', stacked=True)\n",
    "plt.title('Canceled or not by carrier distribution')\n",
    "plt.xlabel('Carrier') \n",
    "plt.ylabel('Number of flights') \n",
    "plt.show()"
   ]
  },
  {
   "cell_type": "code",
   "execution_count": 323,
   "metadata": {
    "collapsed": false
   },
   "outputs": [],
   "source": [
    "ua_1 = data.month[(data.canceled == 1)&(data.uniqueCarrier == 'UA')].value_counts().sort_index()\n",
    "dl_1 = data.month[(data.canceled == 1)&(data.uniqueCarrier == 'DL')].value_counts().sort_index()\n",
    "aa_1 = data.month[(data.canceled == 1)&(data.uniqueCarrier == 'AA')].value_counts().sort_index()\n",
    "month_1_df = pd.DataFrame({'UA':ua_1, 'DL':dl_1, 'AA':aa_1})"
   ]
  },
  {
   "cell_type": "code",
   "execution_count": 324,
   "metadata": {
    "collapsed": false
   },
   "outputs": [
    {
     "data": {
      "image/png": "[encoded data removed]",
      "text/plain": [
       "<matplotlib.figure.Figure at 0x11b717850>"
      ]
     },
     "metadata": {},
     "output_type": "display_data"
    }
   ],
   "source": [
    "plt.rcParams[\"figure.figsize\"] = (16,4)\n",
    "month_1_df.plot(kind='bar', stacked=False)\n",
    "plt.title('Month distribution of each carrier')\n",
    "plt.xlabel('Month') \n",
    "plt.ylabel('Number of flights') \n",
    "plt.show()"
   ]
  },
  {
   "cell_type": "code",
   "execution_count": 40,
   "metadata": {
    "collapsed": false
   },
   "outputs": [
    {
     "data": {
      "image/png": "[encoded data removed]",
      "text/plain": [
       "<matplotlib.figure.Figure at 0x114acca90>"
      ]
     },
     "metadata": {},
     "output_type": "display_data"
    }
   ],
   "source": [
    "plt.rcParams[\"figure.figsize\"] = (4,4)\n",
    "cancel_noArrDelay = data.canceled[data.arrDelay == 0].value_counts()\n",
    "cancel_arrDelay = data.canceled[data.arrDelay != 0].value_counts()\n",
    "df=pd.DataFrame({'Arrival Delay':cancel_arrDelay, 'No Arrival Delay':cancel_noArrDelay}).transpose()\n",
    "df.plot(kind='bar', stacked=True)\n",
    "plt.title('Canceled or not by if there is an arrival delay')\n",
    "plt.xlabel('Arrival delay or not') \n",
    "plt.ylabel('Number of flights')\n",
    "plt.xticks(rotation=0)\n",
    "plt.show()"
   ]
  },
  {
   "cell_type": "code",
   "execution_count": 41,
   "metadata": {
    "collapsed": false
   },
   "outputs": [
    {
     "data": {
      "image/png": "[encoded data removed]",
      "text/plain": [
       "<matplotlib.figure.Figure at 0x1142b2610>"
      ]
     },
     "metadata": {},
     "output_type": "display_data"
    }
   ],
   "source": [
    "cancel_noDepDelay = data.canceled[data.depDelay == 0].value_counts()\n",
    "cancel_depDelay = data.canceled[data.depDelay != 0].value_counts()\n",
    "df=pd.DataFrame({'Departure Delay':cancel_depDelay, 'No Departure Delay':cancel_noDepDelay}).transpose()\n",
    "df.plot(kind='bar', stacked=True)\n",
    "plt.title('Canceled or not by if there is an departure delay')\n",
    "plt.xlabel('Departure delay or not') \n",
    "plt.ylabel('Number of flights')\n",
    "plt.xticks(rotation=0)\n",
    "plt.show()"
   ]
  },
  {
   "cell_type": "code",
   "execution_count": 311,
   "metadata": {
    "collapsed": false
   },
   "outputs": [
    {
     "data": {
      "image/png": "[encoded data removed]",
      "text/plain": [
       "<matplotlib.figure.Figure at 0x11b14eed0>"
      ]
     },
     "metadata": {},
     "output_type": "display_data"
    }
   ],
   "source": [
    "plt.rcParams[\"figure.figsize\"] = (15,9)\n",
    "\n",
    "plt.subplot2grid((2,2),(0,0))\n",
    "data.month[data.uniqueCarrier == 'UA'].plot(kind='kde')\n",
    "data.month[data.uniqueCarrier == 'DL'].plot(kind='kde')\n",
    "data.month[data.uniqueCarrier == 'AA'].plot(kind='kde')   \n",
    "plt.xlabel('Month')\n",
    "plt.xlim((1,12))\n",
    "plt.ylabel('Density') \n",
    "plt.title('Month distribution of each carrier')\n",
    "plt.legend(('UA','DL','AA'),loc='best')\n",
    "\n",
    "plt.subplot2grid((2,2),(0,1))\n",
    "data.departureTime[data.uniqueCarrier == 'UA'].plot(kind='kde')\n",
    "data.departureTime[data.uniqueCarrier == 'DL'].plot(kind='kde')\n",
    "data.departureTime[data.uniqueCarrier == 'AA'].plot(kind='kde')   \n",
    "plt.xlabel('Departure time')\n",
    "plt.xlim((0,2400))\n",
    "plt.ylabel('Density') \n",
    "plt.title('Departure time distribution of each carrier')\n",
    "plt.legend(('UA','DL','AA'),loc='best') \n",
    "\n",
    "plt.subplot2grid((2,2),(1,0))\n",
    "data.schedElapsedTime[data.uniqueCarrier == 'UA'].plot(kind='kde')\n",
    "data.schedElapsedTime[data.uniqueCarrier == 'DL'].plot(kind='kde')\n",
    "data.schedElapsedTime[data.uniqueCarrier == 'AA'].plot(kind='kde')   \n",
    "plt.xlabel('Scheduled elapsed time')\n",
    "plt.xlim((0,800))\n",
    "plt.ylabel('Density') \n",
    "plt.title('Scheduled elapsed time distribution of each carrier')\n",
    "plt.legend(('UA','DL','AA'),loc='best') \n",
    "\n",
    "plt.subplot2grid((2,2),(1,1))\n",
    "data.distance[data.uniqueCarrier == 'UA'].plot(kind='kde')\n",
    "data.distance[data.uniqueCarrier == 'DL'].plot(kind='kde')\n",
    "data.distance[data.uniqueCarrier == 'AA'].plot(kind='kde')   \n",
    "plt.xlabel('Distance')\n",
    "plt.xlim((0,5000))\n",
    "plt.ylabel('Density') \n",
    "plt.title('Distance distribution of each carrier')\n",
    "plt.legend(('UA','DL','AA'),loc='best') \n",
    "\n",
    "plt.show()"
   ]
  },
  {
   "cell_type": "markdown",
   "metadata": {},
   "source": [
    "# Feature Engineering"
   ]
  },
  {
   "cell_type": "code",
   "execution_count": 89,
   "metadata": {
    "collapsed": false
   },
   "outputs": [],
   "source": [
    "data.loc[data.arrDelay == 0, 'arrDelay'] = 'n'\n",
    "data.loc[data.arrDelay != 'n', 'arrDelay'] = 'y'\n",
    "data.loc[data.depDelay == 0, 'depDelay'] = 'n'\n",
    "data.loc[data.depDelay != 'n', 'depDelay'] = 'y'"
   ]
  },
  {
   "cell_type": "code",
   "execution_count": 4,
   "metadata": {
    "collapsed": false
   },
   "outputs": [],
   "source": [
    "# Convert the categorical variables into dummy variables\n",
    "data = pd.get_dummies(data,columns=['uniqueCarrier'],drop_first=False)\n",
    "data = pd.get_dummies(data,columns=['arrDelay'],drop_first=False)\n",
    "data = pd.get_dummies(data,columns=['depDelay'],drop_first=False)"
   ]
  },
  {
   "cell_type": "code",
   "execution_count": 5,
   "metadata": {
    "collapsed": true
   },
   "outputs": [],
   "source": [
    "df = data"
   ]
  },
  {
   "cell_type": "code",
   "execution_count": 6,
   "metadata": {
    "collapsed": false
   },
   "outputs": [
    {
     "name": "stderr",
     "output_type": "stream",
     "text": [
      "/Users/feiyiwang/Library/Enthought/Canopy/edm/envs/User/lib/python2.7/site-packages/sklearn/utils/validation.py:429: DataConversionWarning: Data with input dtype int64 was converted to float64 by StandardScaler.\n",
      "  warnings.warn(msg, _DataConversionWarning)\n",
      "/Users/feiyiwang/Library/Enthought/Canopy/edm/envs/User/lib/python2.7/site-packages/sklearn/preprocessing/data.py:586: DeprecationWarning: Passing 1d arrays as data is deprecated in 0.17 and will raise ValueError in 0.19. Reshape your data either using X.reshape(-1, 1) if your data has a single feature or X.reshape(1, -1) if it contains a single sample.\n",
      "  warnings.warn(DEPRECATION_MSG_1D, DeprecationWarning)\n",
      "/Users/feiyiwang/Library/Enthought/Canopy/edm/envs/User/lib/python2.7/site-packages/sklearn/preprocessing/data.py:586: DeprecationWarning: Passing 1d arrays as data is deprecated in 0.17 and will raise ValueError in 0.19. Reshape your data either using X.reshape(-1, 1) if your data has a single feature or X.reshape(1, -1) if it contains a single sample.\n",
      "  warnings.warn(DEPRECATION_MSG_1D, DeprecationWarning)\n",
      "/Users/feiyiwang/Library/Enthought/Canopy/edm/envs/User/lib/python2.7/site-packages/sklearn/preprocessing/data.py:649: DeprecationWarning: Passing 1d arrays as data is deprecated in 0.17 and will raise ValueError in 0.19. Reshape your data either using X.reshape(-1, 1) if your data has a single feature or X.reshape(1, -1) if it contains a single sample.\n",
      "  warnings.warn(DEPRECATION_MSG_1D, DeprecationWarning)\n",
      "/Users/feiyiwang/Library/Enthought/Canopy/edm/envs/User/lib/python2.7/site-packages/sklearn/preprocessing/data.py:586: DeprecationWarning: Passing 1d arrays as data is deprecated in 0.17 and will raise ValueError in 0.19. Reshape your data either using X.reshape(-1, 1) if your data has a single feature or X.reshape(1, -1) if it contains a single sample.\n",
      "  warnings.warn(DEPRECATION_MSG_1D, DeprecationWarning)\n",
      "/Users/feiyiwang/Library/Enthought/Canopy/edm/envs/User/lib/python2.7/site-packages/sklearn/preprocessing/data.py:586: DeprecationWarning: Passing 1d arrays as data is deprecated in 0.17 and will raise ValueError in 0.19. Reshape your data either using X.reshape(-1, 1) if your data has a single feature or X.reshape(1, -1) if it contains a single sample.\n",
      "  warnings.warn(DEPRECATION_MSG_1D, DeprecationWarning)\n",
      "/Users/feiyiwang/Library/Enthought/Canopy/edm/envs/User/lib/python2.7/site-packages/sklearn/preprocessing/data.py:649: DeprecationWarning: Passing 1d arrays as data is deprecated in 0.17 and will raise ValueError in 0.19. Reshape your data either using X.reshape(-1, 1) if your data has a single feature or X.reshape(1, -1) if it contains a single sample.\n",
      "  warnings.warn(DEPRECATION_MSG_1D, DeprecationWarning)\n",
      "/Users/feiyiwang/Library/Enthought/Canopy/edm/envs/User/lib/python2.7/site-packages/sklearn/preprocessing/data.py:586: DeprecationWarning: Passing 1d arrays as data is deprecated in 0.17 and will raise ValueError in 0.19. Reshape your data either using X.reshape(-1, 1) if your data has a single feature or X.reshape(1, -1) if it contains a single sample.\n",
      "  warnings.warn(DEPRECATION_MSG_1D, DeprecationWarning)\n",
      "/Users/feiyiwang/Library/Enthought/Canopy/edm/envs/User/lib/python2.7/site-packages/sklearn/preprocessing/data.py:586: DeprecationWarning: Passing 1d arrays as data is deprecated in 0.17 and will raise ValueError in 0.19. Reshape your data either using X.reshape(-1, 1) if your data has a single feature or X.reshape(1, -1) if it contains a single sample.\n",
      "  warnings.warn(DEPRECATION_MSG_1D, DeprecationWarning)\n",
      "/Users/feiyiwang/Library/Enthought/Canopy/edm/envs/User/lib/python2.7/site-packages/sklearn/preprocessing/data.py:649: DeprecationWarning: Passing 1d arrays as data is deprecated in 0.17 and will raise ValueError in 0.19. Reshape your data either using X.reshape(-1, 1) if your data has a single feature or X.reshape(1, -1) if it contains a single sample.\n",
      "  warnings.warn(DEPRECATION_MSG_1D, DeprecationWarning)\n"
     ]
    }
   ],
   "source": [
    "import sklearn.preprocessing as preprocessing\n",
    "scaler = preprocessing.StandardScaler()\n",
    "df['departureTime_scaled'] = scaler.fit_transform(df.departureTime, scaler.fit(df.departureTime))\n",
    "df['schedElapsedTime_scaled'] = scaler.fit_transform(df.schedElapsedTime, scaler.fit(df.schedElapsedTime))\n",
    "df['distance_scaled'] = scaler.fit_transform(df.distance, scaler.fit(df.distance))\n",
    "# df['distance_scaled'] = scaler.fit_transform(df.distance, scaler.fit(df.distance))"
   ]
  },
  {
   "cell_type": "code",
   "execution_count": 101,
   "metadata": {
    "collapsed": true
   },
   "outputs": [],
   "source": [
    "df1 = df.filter(regex='canceled|month$|uniqueCarrier_.*|arrDelay_.*|depDelay_.*|departureTime_.*|schedElapsedTime_.*|distance_.*')"
   ]
  },
  {
   "cell_type": "markdown",
   "metadata": {},
   "source": [
    "# Modeling"
   ]
  },
  {
   "cell_type": "code",
   "execution_count": 104,
   "metadata": {
    "collapsed": false
   },
   "outputs": [],
   "source": [
    "df1_np = df1.as_matrix()\n",
    "y = df1_np[:,0]\n",
    "X = df1_np[:,1:]"
   ]
  },
  {
   "cell_type": "code",
   "execution_count": 36,
   "metadata": {
    "collapsed": true
   },
   "outputs": [],
   "source": [
    "from sklearn.cross_validation import train_test_split\n",
    "X_train, X_test, y_train, y_test = train_test_split(X,y,test_size=0.1)"
   ]
  },
  {
   "cell_type": "markdown",
   "metadata": {},
   "source": [
    "### Logistic Regression"
   ]
  },
  {
   "cell_type": "code",
   "execution_count": 107,
   "metadata": {
    "collapsed": false
   },
   "outputs": [
    {
     "data": {
      "text/plain": [
       "{'C': 0.01, 'penalty': 'l1'}"
      ]
     },
     "execution_count": 107,
     "metadata": {},
     "output_type": "execute_result"
    }
   ],
   "source": [
    "from sklearn.linear_model import LogisticRegression\n",
    "from sklearn.model_selection import GridSearchCV\n",
    "log_param_grid = {\"C\": [0.01, 0.1, 1, 10, 100, 1000, 10000, 100000],\"penalty\": ['l1', 'l2']}\n",
    "log_grid_search = GridSearchCV(LogisticRegression(), log_param_grid, cv=10)\n",
    "log_grid_search.fit(X_train, y_train)\n",
    "log_grid_search.best_params_"
   ]
  },
  {
   "cell_type": "code",
   "execution_count": 108,
   "metadata": {
    "collapsed": false
   },
   "outputs": [
    {
     "data": {
      "text/plain": [
       "0.99633333333333329"
      ]
     },
     "execution_count": 108,
     "metadata": {},
     "output_type": "execute_result"
    }
   ],
   "source": [
    "log_grid_search.score(X,y)"
   ]
  },
  {
   "cell_type": "code",
   "execution_count": 137,
   "metadata": {
    "collapsed": false
   },
   "outputs": [
    {
     "data": {
      "text/html": [
       "<div>\n",
       "<table border=\"1\" class=\"dataframe\">\n",
       "  <thead>\n",
       "    <tr style=\"text-align: right;\">\n",
       "      <th></th>\n",
       "      <th>coef</th>\n",
       "      <th>columns</th>\n",
       "    </tr>\n",
       "  </thead>\n",
       "  <tbody>\n",
       "    <tr>\n",
       "      <th>0</th>\n",
       "      <td>[-0.0138794417745]</td>\n",
       "      <td>month</td>\n",
       "    </tr>\n",
       "    <tr>\n",
       "      <th>1</th>\n",
       "      <td>[0.0]</td>\n",
       "      <td>uniqueCarrier_AA</td>\n",
       "    </tr>\n",
       "    <tr>\n",
       "      <th>2</th>\n",
       "      <td>[0.0]</td>\n",
       "      <td>uniqueCarrier_DL</td>\n",
       "    </tr>\n",
       "    <tr>\n",
       "      <th>3</th>\n",
       "      <td>[0.0]</td>\n",
       "      <td>uniqueCarrier_UA</td>\n",
       "    </tr>\n",
       "    <tr>\n",
       "      <th>4</th>\n",
       "      <td>[1.03876108089]</td>\n",
       "      <td>arrDelay_n</td>\n",
       "    </tr>\n",
       "    <tr>\n",
       "      <th>5</th>\n",
       "      <td>[-2.49612385592]</td>\n",
       "      <td>arrDelay_y</td>\n",
       "    </tr>\n",
       "    <tr>\n",
       "      <th>6</th>\n",
       "      <td>[0.748110840887]</td>\n",
       "      <td>depDelay_n</td>\n",
       "    </tr>\n",
       "    <tr>\n",
       "      <th>7</th>\n",
       "      <td>[-1.74213186691]</td>\n",
       "      <td>depDelay_y</td>\n",
       "    </tr>\n",
       "    <tr>\n",
       "      <th>8</th>\n",
       "      <td>[0.0]</td>\n",
       "      <td>departureTime_scaled</td>\n",
       "    </tr>\n",
       "    <tr>\n",
       "      <th>9</th>\n",
       "      <td>[0.0]</td>\n",
       "      <td>schedElapsedTime_scaled</td>\n",
       "    </tr>\n",
       "    <tr>\n",
       "      <th>10</th>\n",
       "      <td>[0.0]</td>\n",
       "      <td>distance_scaled</td>\n",
       "    </tr>\n",
       "  </tbody>\n",
       "</table>\n",
       "</div>"
      ],
      "text/plain": [
       "                  coef                  columns\n",
       "0   [-0.0138794417745]                    month\n",
       "1                [0.0]         uniqueCarrier_AA\n",
       "2                [0.0]         uniqueCarrier_DL\n",
       "3                [0.0]         uniqueCarrier_UA\n",
       "4      [1.03876108089]               arrDelay_n\n",
       "5     [-2.49612385592]               arrDelay_y\n",
       "6     [0.748110840887]               depDelay_n\n",
       "7     [-1.74213186691]               depDelay_y\n",
       "8                [0.0]     departureTime_scaled\n",
       "9                [0.0]  schedElapsedTime_scaled\n",
       "10               [0.0]          distance_scaled"
      ]
     },
     "execution_count": 137,
     "metadata": {},
     "output_type": "execute_result"
    }
   ],
   "source": [
    "coef = log_grid_search.best_estimator_.coef_\n",
    "pd.DataFrame({\"columns\":list(df1.columns)[1:], \"coef\":list(coef.T)})"
   ]
  },
  {
   "cell_type": "markdown",
   "metadata": {},
   "source": [
    "#### Because of the existance of arrDelay and depDelay, the rest variables have almost no use. Also based on the understanding of all the variables, arrDelay and depDelay should be removed.\n",
    "\n",
    "#### Below is the new dataset."
   ]
  },
  {
   "cell_type": "code",
   "execution_count": 37,
   "metadata": {
    "collapsed": false
   },
   "outputs": [],
   "source": [
    "df2 = df.filter(regex='canceled|month$|uniqueCarrier_.*|departureTime_.*|schedElapsedTime_.*|distance_.*')\n",
    "df2_np = df2.as_matrix()\n",
    "y = df2_np[:,0]\n",
    "X = df2_np[:,1:]\n",
    "X_train, X_test, y_train, y_test = train_test_split(X,y,test_size=0.1)"
   ]
  },
  {
   "cell_type": "code",
   "execution_count": 145,
   "metadata": {
    "collapsed": false,
    "scrolled": true
   },
   "outputs": [
    {
     "data": {
      "text/html": [
       "<div>\n",
       "<table border=\"1\" class=\"dataframe\">\n",
       "  <thead>\n",
       "    <tr style=\"text-align: right;\">\n",
       "      <th></th>\n",
       "      <th>canceled</th>\n",
       "      <th>month</th>\n",
       "      <th>uniqueCarrier_AA</th>\n",
       "      <th>uniqueCarrier_DL</th>\n",
       "      <th>uniqueCarrier_UA</th>\n",
       "      <th>departureTime_scaled</th>\n",
       "      <th>schedElapsedTime_scaled</th>\n",
       "      <th>distance_scaled</th>\n",
       "    </tr>\n",
       "  </thead>\n",
       "  <tbody>\n",
       "    <tr>\n",
       "      <th>0</th>\n",
       "      <td>1</td>\n",
       "      <td>12</td>\n",
       "      <td>0</td>\n",
       "      <td>0</td>\n",
       "      <td>1</td>\n",
       "      <td>-1.125003</td>\n",
       "      <td>-0.354779</td>\n",
       "      <td>-0.477239</td>\n",
       "    </tr>\n",
       "    <tr>\n",
       "      <th>1</th>\n",
       "      <td>1</td>\n",
       "      <td>12</td>\n",
       "      <td>0</td>\n",
       "      <td>1</td>\n",
       "      <td>0</td>\n",
       "      <td>-1.090151</td>\n",
       "      <td>-0.918459</td>\n",
       "      <td>-1.196371</td>\n",
       "    </tr>\n",
       "    <tr>\n",
       "      <th>2</th>\n",
       "      <td>1</td>\n",
       "      <td>1</td>\n",
       "      <td>0</td>\n",
       "      <td>0</td>\n",
       "      <td>1</td>\n",
       "      <td>1.099010</td>\n",
       "      <td>0.657283</td>\n",
       "      <td>0.954839</td>\n",
       "    </tr>\n",
       "  </tbody>\n",
       "</table>\n",
       "</div>"
      ],
      "text/plain": [
       "   canceled  month  uniqueCarrier_AA  uniqueCarrier_DL  uniqueCarrier_UA  \\\n",
       "0         1     12                 0                 0                 1   \n",
       "1         1     12                 0                 1                 0   \n",
       "2         1      1                 0                 0                 1   \n",
       "\n",
       "   departureTime_scaled  schedElapsedTime_scaled  distance_scaled  \n",
       "0             -1.125003                -0.354779        -0.477239  \n",
       "1             -1.090151                -0.918459        -1.196371  \n",
       "2              1.099010                 0.657283         0.954839  "
      ]
     },
     "execution_count": 145,
     "metadata": {},
     "output_type": "execute_result"
    }
   ],
   "source": [
    "df2.head(3)"
   ]
  },
  {
   "cell_type": "code",
   "execution_count": 409,
   "metadata": {
    "collapsed": false
   },
   "outputs": [
    {
     "data": {
      "text/plain": [
       "{'C': 0.01, 'penalty': 'l2'}"
      ]
     },
     "execution_count": 409,
     "metadata": {},
     "output_type": "execute_result"
    }
   ],
   "source": [
    "from sklearn.linear_model import LogisticRegression\n",
    "from sklearn.model_selection import GridSearchCV\n",
    "log_param_grid = {\"C\": [0.01, 0.1, 1, 10, 100, 1000, 10000, 100000],\"penalty\": ['l1', 'l2']}\n",
    "log_grid_search = GridSearchCV(LogisticRegression(), log_param_grid, cv=10)\n",
    "log_grid_search.fit(X_train, y_train)\n",
    "log_grid_search.best_params_"
   ]
  },
  {
   "cell_type": "code",
   "execution_count": 84,
   "metadata": {
    "collapsed": false
   },
   "outputs": [
    {
     "data": {
      "text/plain": [
       "LogisticRegression(C=0.01, class_weight=None, dual=False, fit_intercept=True,\n",
       "          intercept_scaling=1, max_iter=100, multi_class='ovr', n_jobs=1,\n",
       "          penalty='l1', random_state=None, solver='liblinear', tol=0.0001,\n",
       "          verbose=0, warm_start=False)"
      ]
     },
     "execution_count": 84,
     "metadata": {},
     "output_type": "execute_result"
    }
   ],
   "source": [
    "log_grid_search.best_estimator_"
   ]
  },
  {
   "cell_type": "code",
   "execution_count": 410,
   "metadata": {
    "collapsed": false
   },
   "outputs": [
    {
     "data": {
      "text/plain": [
       "0.61570155902004453"
      ]
     },
     "execution_count": 410,
     "metadata": {},
     "output_type": "execute_result"
    }
   ],
   "source": [
    "log_grid_search.score(X_train, y_train)"
   ]
  },
  {
   "cell_type": "code",
   "execution_count": 79,
   "metadata": {
    "collapsed": false
   },
   "outputs": [
    {
     "data": {
      "text/plain": [
       "0.84166666666666667"
      ]
     },
     "execution_count": 79,
     "metadata": {},
     "output_type": "execute_result"
    }
   ],
   "source": [
    "log_grid_search.score(X_test, y_test)"
   ]
  },
  {
   "cell_type": "code",
   "execution_count": 83,
   "metadata": {
    "collapsed": false,
    "scrolled": true
   },
   "outputs": [
    {
     "data": {
      "text/plain": [
       "array([ 0.,  0.,  0.,  0.,  0.,  0.,  0.,  0.,  0.,  0.,  0.,  0.,  0.,\n",
       "        0.,  0.,  0.,  0.,  0.,  0.,  0.,  0.,  0.,  0.,  0.,  0.,  0.,\n",
       "        0.,  0.,  0.,  0.,  0.,  0.,  0.,  0.,  0.,  0.,  0.,  0.,  0.,\n",
       "        0.,  0.,  0.,  0.,  0.,  0.,  0.,  0.,  0.,  0.,  0.,  0.,  0.,\n",
       "        0.,  0.,  0.,  0.,  0.,  0.,  0.,  0.,  0.,  0.,  0.,  0.,  0.,\n",
       "        0.,  0.,  0.,  0.,  0.,  0.,  0.,  0.,  0.,  0.,  0.,  0.,  0.,\n",
       "        0.,  0.,  0.,  0.,  0.,  0.,  0.,  0.,  0.,  0.,  0.,  0.,  0.,\n",
       "        0.,  0.,  0.,  0.,  0.,  0.,  0.,  0.,  0.,  0.,  0.,  0.,  0.,\n",
       "        0.,  0.,  0.,  0.,  0.,  0.,  0.,  0.,  0.,  0.,  0.,  0.,  0.,\n",
       "        0.,  0.,  0.,  0.,  0.,  0.,  0.,  0.,  0.,  0.,  0.,  0.,  0.,\n",
       "        0.,  0.,  0.,  0.,  0.,  0.,  0.,  0.,  0.,  0.,  0.,  0.,  0.,\n",
       "        0.,  0.,  0.,  0.,  0.,  0.,  0.,  0.,  0.,  0.,  0.,  0.,  0.,\n",
       "        0.,  0.,  0.,  0.,  0.,  0.,  0.,  0.,  0.,  0.,  0.,  0.,  0.,\n",
       "        0.,  0.,  0.,  0.,  0.,  0.,  0.,  0.,  0.,  0.,  0.,  0.,  0.,\n",
       "        0.,  0.,  0.,  0.,  0.,  0.,  0.,  0.,  0.,  0.,  0.,  0.,  0.,\n",
       "        0.,  0.,  0.,  0.,  0.,  0.,  0.,  0.,  0.,  0.,  0.,  0.,  0.,\n",
       "        0.,  0.,  0.,  0.,  0.,  0.,  0.,  0.,  0.,  0.,  0.,  0.,  0.,\n",
       "        0.,  0.,  0.,  0.,  0.,  0.,  0.,  0.,  0.,  0.,  0.,  0.,  0.,\n",
       "        0.,  0.,  0.,  0.,  0.,  0.,  0.,  0.,  0.,  0.,  0.,  0.,  0.,\n",
       "        0.,  0.,  0.,  0.,  0.,  0.,  0.,  0.,  0.,  0.,  0.,  0.,  0.,\n",
       "        0.,  0.,  0.,  0.,  0.,  0.,  0.,  0.,  0.,  0.,  0.,  0.,  0.,\n",
       "        0.,  0.,  0.,  0.,  0.,  0.,  0.,  0.,  0.,  0.,  0.,  0.,  0.,\n",
       "        0.,  0.,  0.,  0.,  0.,  0.,  0.,  0.,  0.,  0.,  0.,  0.,  0.,\n",
       "        0.,  0.,  0.,  0.,  0.,  0.,  0.,  0.,  0.,  0.,  0.,  0.,  0.,\n",
       "        0.,  0.,  0.,  0.,  0.,  0.,  0.,  0.,  0.,  0.,  0.,  0.,  0.,\n",
       "        0.,  0.,  0.,  0.,  0.,  0.,  0.,  0.,  0.,  0.,  0.,  0.,  0.,\n",
       "        0.,  0.,  0.,  0.,  0.,  0.,  0.,  0.,  0.,  0.,  0.,  0.,  0.,\n",
       "        0.,  0.,  0.,  0.,  0.,  0.,  0.,  0.,  0.,  0.,  0.,  0.,  0.,\n",
       "        0.,  0.,  0.,  0.,  0.,  0.,  0.,  0.,  0.,  0.,  0.,  0.,  0.,\n",
       "        0.,  0.,  0.,  0.,  0.,  0.,  0.,  0.,  0.,  0.,  0.,  0.,  0.,\n",
       "        0.,  0.,  0.,  0.,  0.,  0.,  0.,  0.,  0.,  0.,  0.,  0.,  0.,\n",
       "        0.,  0.,  0.,  0.,  0.,  0.,  0.,  0.,  0.,  0.,  0.,  0.,  0.,\n",
       "        0.,  0.,  0.,  0.,  0.,  0.,  0.,  0.,  0.,  0.,  0.,  0.,  0.,\n",
       "        0.,  0.,  0.,  0.,  0.,  0.,  0.,  0.,  0.,  0.,  0.,  0.,  0.,\n",
       "        0.,  0.,  0.,  0.,  0.,  0.,  0.,  0.,  0.,  0.,  0.,  0.,  0.,\n",
       "        0.,  0.,  0.,  0.,  0.,  0.,  0.,  0.,  0.,  0.,  0.,  0.,  0.,\n",
       "        0.,  0.,  0.,  0.,  0.,  0.,  0.,  0.,  0.,  0.,  0.,  0.,  0.,\n",
       "        0.,  0.,  0.,  0.,  0.,  0.,  0.,  0.,  0.,  0.,  0.,  0.,  0.,\n",
       "        0.,  0.,  0.,  0.,  0.,  0.,  0.,  0.,  0.,  0.,  0.,  0.,  0.,\n",
       "        0.,  0.,  0.,  0.,  0.,  0.,  0.,  0.,  0.,  0.,  0.,  0.,  0.,\n",
       "        0.,  0.,  0.,  0.,  0.,  0.,  0.,  0.,  0.,  0.,  0.,  0.,  0.,\n",
       "        0.,  0.,  0.,  0.,  0.,  0.,  0.,  0.,  0.,  0.,  0.,  0.,  0.,\n",
       "        0.,  0.,  0.,  0.,  0.,  0.,  0.,  0.,  0.,  0.,  0.,  0.,  0.,\n",
       "        0.,  0.,  0.,  0.,  0.,  0.,  0.,  0.,  0.,  0.,  0.,  0.,  0.,\n",
       "        0.,  0.,  0.,  0.,  0.,  0.,  0.,  0.,  0.,  0.,  0.,  0.,  0.,\n",
       "        0.,  0.,  0.,  0.,  0.,  0.,  0.,  0.,  0.,  0.,  0.,  0.,  0.,\n",
       "        0.,  0.])"
      ]
     },
     "execution_count": 83,
     "metadata": {},
     "output_type": "execute_result"
    }
   ],
   "source": [
    "log_grid_search.predict(X_test)"
   ]
  },
  {
   "cell_type": "markdown",
   "metadata": {},
   "source": [
    "#### It is mainly because of the imbalanced classes in our dataset as we have many more non-canceled flights.\n",
    "\n",
    "#### One way is to increase the number of canceled examples - Up-sample Minority Class."
   ]
  },
  {
   "cell_type": "code",
   "execution_count": 195,
   "metadata": {
    "collapsed": true
   },
   "outputs": [],
   "source": [
    "train, test = train_test_split(df2, test_size=0.1)"
   ]
  },
  {
   "cell_type": "code",
   "execution_count": 196,
   "metadata": {
    "collapsed": false
   },
   "outputs": [
    {
     "name": "stdout",
     "output_type": "stream",
     "text": [
      "majority: 4490  minority: 910\n"
     ]
    }
   ],
   "source": [
    "# Separate majority and minority classes\n",
    "train_majority = train[train.canceled==0]\n",
    "train_minority = train[train.canceled==1]\n",
    "print 'majority: ' + str(len(train_majority)) + '  minority: ' + str(len(train_minority))"
   ]
  },
  {
   "cell_type": "code",
   "execution_count": 197,
   "metadata": {
    "collapsed": false
   },
   "outputs": [
    {
     "data": {
      "text/plain": [
       "1    4490\n",
       "0    4490\n",
       "Name: canceled, dtype: int64"
      ]
     },
     "execution_count": 197,
     "metadata": {},
     "output_type": "execute_result"
    }
   ],
   "source": [
    "from sklearn.utils import resample\n",
    "# Upsample minority class\n",
    "train_minority_upsampled = resample(train_minority, \n",
    "                                 replace=True,                     # sample with replacement\n",
    "                                 n_samples=len(train_majority),    # to match majority class\n",
    "                                 random_state=123)                 # reproducible results\n",
    " \n",
    "# Combine majority class with upsampled minority class\n",
    "train_upsampled = pd.concat([train_majority, train_minority_upsampled])\n",
    " \n",
    "# Display new class counts\n",
    "train_upsampled.canceled.value_counts()"
   ]
  },
  {
   "cell_type": "code",
   "execution_count": 198,
   "metadata": {
    "collapsed": true
   },
   "outputs": [],
   "source": [
    "from sklearn.utils import shuffle\n",
    "train_upsampled = shuffle(train_upsampled)"
   ]
  },
  {
   "cell_type": "code",
   "execution_count": 199,
   "metadata": {
    "collapsed": true
   },
   "outputs": [],
   "source": [
    "X_train = train_upsampled.as_matrix()[:,1:]\n",
    "y_train = train_upsampled.as_matrix()[:,0]\n",
    "X_test = test.as_matrix()[:,1:]\n",
    "y_test = test.as_matrix()[:,0]"
   ]
  },
  {
   "cell_type": "code",
   "execution_count": 200,
   "metadata": {
    "collapsed": false
   },
   "outputs": [
    {
     "data": {
      "text/plain": [
       "{'C': 0.01, 'penalty': 'l2'}"
      ]
     },
     "execution_count": 200,
     "metadata": {},
     "output_type": "execute_result"
    }
   ],
   "source": [
    "from sklearn.linear_model import LogisticRegression\n",
    "from sklearn.model_selection import GridSearchCV\n",
    "log_param_grid = {\"C\": [0.01, 0.1, 1, 10, 100, 1000, 10000, 100000],\"penalty\": ['l1', 'l2']}\n",
    "log_grid_search = GridSearchCV(LogisticRegression(), log_param_grid, cv=10)\n",
    "log_grid_search.fit(X_train, y_train)\n",
    "log_grid_search.best_params_"
   ]
  },
  {
   "cell_type": "code",
   "execution_count": 201,
   "metadata": {
    "collapsed": false
   },
   "outputs": [
    {
     "data": {
      "text/plain": [
       "0.60166666666666668"
      ]
     },
     "execution_count": 201,
     "metadata": {},
     "output_type": "execute_result"
    }
   ],
   "source": [
    "log_grid_search.score(X_test, y_test)"
   ]
  },
  {
   "cell_type": "code",
   "execution_count": 202,
   "metadata": {
    "collapsed": false
   },
   "outputs": [
    {
     "data": {
      "text/plain": [
       "0.61570155902004453"
      ]
     },
     "execution_count": 202,
     "metadata": {},
     "output_type": "execute_result"
    }
   ],
   "source": [
    "log_grid_search.score(X_train, y_train)"
   ]
  },
  {
   "cell_type": "code",
   "execution_count": 239,
   "metadata": {
    "collapsed": false
   },
   "outputs": [],
   "source": [
    "from sklearn.learning_curve import learning_curve\n",
    "train_sizes, train_scores, test_scores = learning_curve(\n",
    "        log_grid_search.best_estimator_, X_train, y_train, cv=None, n_jobs=1, train_sizes=np.linspace(0.01,1, 20), verbose=0)"
   ]
  },
  {
   "cell_type": "code",
   "execution_count": 240,
   "metadata": {
    "collapsed": true
   },
   "outputs": [],
   "source": [
    "train_scores_mean = np.mean(train_scores, axis=1)\n",
    "train_scores_std = np.std(train_scores, axis=1)\n",
    "test_scores_mean = np.mean(test_scores, axis=1)\n",
    "test_scores_std = np.std(test_scores, axis=1)"
   ]
  },
  {
   "cell_type": "code",
   "execution_count": 241,
   "metadata": {
    "collapsed": false
   },
   "outputs": [
    {
     "data": {
      "image/png": "[encoded data removed]",
      "text/plain": [
       "<matplotlib.figure.Figure at 0x11b971bd0>"
      ]
     },
     "metadata": {},
     "output_type": "display_data"
    }
   ],
   "source": [
    "plt.rcParams[\"figure.figsize\"] = (8,4)\n",
    "plt.figure()\n",
    "plt.title('Learning Curve')\n",
    "plt.xlabel('Training examples')\n",
    "plt.ylabel('Score')\n",
    "\n",
    "plt.grid()\n",
    "\n",
    "plt.fill_between(train_sizes, train_scores_mean - train_scores_std, train_scores_mean + train_scores_std, \n",
    "                 alpha=0.1, color=\"b\")\n",
    "plt.fill_between(train_sizes, test_scores_mean - test_scores_std, test_scores_mean + test_scores_std, \n",
    "                 alpha=0.1, color=\"r\")\n",
    "plt.plot(train_sizes, train_scores_mean, 'o-', color=\"b\", label='Training score')\n",
    "plt.plot(train_sizes, test_scores_mean, 'o-', color=\"r\", label='Cross-validation score')\n",
    "\n",
    "# plt.ylim((1,0.8))\n",
    "plt.legend(loc=\"best\")\n",
    "\n",
    "# plt.draw()\n",
    "# plt.gca().invert_yaxis()\n",
    "plt.show()"
   ]
  },
  {
   "cell_type": "code",
   "execution_count": 242,
   "metadata": {
    "collapsed": false
   },
   "outputs": [
    {
     "data": {
      "text/html": [
       "<div>\n",
       "<table border=\"1\" class=\"dataframe\">\n",
       "  <thead>\n",
       "    <tr style=\"text-align: right;\">\n",
       "      <th></th>\n",
       "      <th>coef</th>\n",
       "      <th>columns</th>\n",
       "    </tr>\n",
       "  </thead>\n",
       "  <tbody>\n",
       "    <tr>\n",
       "      <th>0</th>\n",
       "      <td>[-0.0933092665369]</td>\n",
       "      <td>month</td>\n",
       "    </tr>\n",
       "    <tr>\n",
       "      <th>1</th>\n",
       "      <td>[0.387259427639]</td>\n",
       "      <td>uniqueCarrier_AA</td>\n",
       "    </tr>\n",
       "    <tr>\n",
       "      <th>2</th>\n",
       "      <td>[-0.295215045913]</td>\n",
       "      <td>uniqueCarrier_DL</td>\n",
       "    </tr>\n",
       "    <tr>\n",
       "      <th>3</th>\n",
       "      <td>[0.229579802375]</td>\n",
       "      <td>uniqueCarrier_UA</td>\n",
       "    </tr>\n",
       "    <tr>\n",
       "      <th>4</th>\n",
       "      <td>[0.0243721971754]</td>\n",
       "      <td>departureTime_scaled</td>\n",
       "    </tr>\n",
       "    <tr>\n",
       "      <th>5</th>\n",
       "      <td>[0.172569545476]</td>\n",
       "      <td>schedElapsedTime_scaled</td>\n",
       "    </tr>\n",
       "    <tr>\n",
       "      <th>6</th>\n",
       "      <td>[-0.473643526241]</td>\n",
       "      <td>distance_scaled</td>\n",
       "    </tr>\n",
       "  </tbody>\n",
       "</table>\n",
       "</div>"
      ],
      "text/plain": [
       "                 coef                  columns\n",
       "0  [-0.0933092665369]                    month\n",
       "1    [0.387259427639]         uniqueCarrier_AA\n",
       "2   [-0.295215045913]         uniqueCarrier_DL\n",
       "3    [0.229579802375]         uniqueCarrier_UA\n",
       "4   [0.0243721971754]     departureTime_scaled\n",
       "5    [0.172569545476]  schedElapsedTime_scaled\n",
       "6   [-0.473643526241]          distance_scaled"
      ]
     },
     "execution_count": 242,
     "metadata": {},
     "output_type": "execute_result"
    }
   ],
   "source": [
    "coef = log_grid_search.best_estimator_.coef_\n",
    "pd.DataFrame({\"columns\":list(df2.columns)[1:], \"coef\":list(coef.T)})"
   ]
  },
  {
   "cell_type": "markdown",
   "metadata": {},
   "source": [
    "#### For a general-purpose metric for classification, I want to see Area Under ROC Curve (AUROC)."
   ]
  },
  {
   "cell_type": "code",
   "execution_count": 245,
   "metadata": {
    "collapsed": false
   },
   "outputs": [
    {
     "data": {
      "text/plain": [
       "0.64762806236080173"
      ]
     },
     "execution_count": 245,
     "metadata": {},
     "output_type": "execute_result"
    }
   ],
   "source": [
    "# AUROC\n",
    "prob_y_1 = log_grid_search.best_estimator_.predict_proba(X_train)\n",
    "prob_y_1 = [p[1] for p in prob_y_1]\n",
    "roc_auc_score(y_train, prob_y_1)"
   ]
  },
  {
   "cell_type": "code",
   "execution_count": 366,
   "metadata": {
    "collapsed": false
   },
   "outputs": [],
   "source": [
    "from sklearn.cross_validation import StratifiedKFold\n",
    "from sklearn.metrics import roc_curve, auc  \n",
    "\n",
    "cv = StratifiedKFold(y_train, n_folds=10)  \n",
    "classifier = log_grid_search.best_estimator_\n",
    "\n",
    "mean_tpr = 0.0  \n",
    "mean_fpr = np.linspace(0, 1, 100)  \n",
    "all_tpr = []  \n",
    "\n",
    "plt.rcParams[\"figure.figsize\"] = (6,6)\n",
    "for i, (train_set, test_set) in enumerate(cv):   \n",
    "    probas_ = classifier.fit(X_train[train_set], y_train[train_set]).predict_proba(X_train[test_set])  \n",
    "\n",
    "    fpr, tpr, thresholds = roc_curve(y_train[test_set], probas_[:, 1])  \n",
    "    mean_tpr += interp(mean_fpr, fpr, tpr)          #对mean_tpr在mean_fpr处进行插值，通过scipy包调用interp()函数  \n",
    "    mean_tpr[0] = 0.0                               #初始处为0  \n",
    "    roc_auc = auc(fpr, tpr)  \n",
    "    #画图，只需要plt.plot(fpr,tpr),变量roc_auc只是记录auc的值，通过auc()函数能计算出来  \n",
    "    plt.plot(fpr, tpr, lw=1, label='ROC fold %d (area = %0.3f)' % (i, roc_auc))  "
   ]
  },
  {
   "cell_type": "code",
   "execution_count": 367,
   "metadata": {
    "collapsed": false
   },
   "outputs": [
    {
     "data": {
      "image/png": "[encoded data removed]",
      "text/plain": [
       "<matplotlib.figure.Figure at 0x11bb19350>"
      ]
     },
     "metadata": {},
     "output_type": "display_data"
    }
   ],
   "source": [
    "plt.plot([0, 1], [0, 1], '--', color=(0.6, 0.6, 0.6), label='Canceled')  \n",
    "  \n",
    "mean_tpr /= len(cv)                     #在mean_fpr100个点，每个点处插值插值多次取平均  \n",
    "mean_tpr[-1] = 1.0                      #坐标最后一个点为（1,1）  \n",
    "mean_auc = auc(mean_fpr, mean_tpr)      #计算平均AUC值  \n",
    "#画平均ROC曲线  \n",
    "#print mean_fpr,len(mean_fpr)  \n",
    "#print mean_tpr  \n",
    "plt.plot(mean_fpr, mean_tpr, 'k--',  \n",
    "         label='Mean ROC (area = %0.3f)' % mean_auc, lw=2)  \n",
    "  \n",
    "plt.xlim([-0.05, 1.05])  \n",
    "plt.ylim([-0.05, 1.05])  \n",
    "plt.xlabel('False Positive Rate')  \n",
    "plt.ylabel('True Positive Rate')  \n",
    "plt.title('Receiver operating characteristic example')  \n",
    "plt.legend(loc=\"lower right\")  \n",
    "plt.show()  "
   ]
  },
  {
   "cell_type": "markdown",
   "metadata": {},
   "source": [
    "A second way is - Penalize Algorithms (Cost-Sensitive Training)."
   ]
  },
  {
   "cell_type": "code",
   "execution_count": 205,
   "metadata": {
    "collapsed": false
   },
   "outputs": [],
   "source": [
    "X_train2 = train.as_matrix()[:,1:]\n",
    "y_train2 = train.as_matrix()[:,0]"
   ]
  },
  {
   "cell_type": "code",
   "execution_count": 206,
   "metadata": {
    "collapsed": false
   },
   "outputs": [
    {
     "data": {
      "text/plain": [
       "{'C': 0.01, 'penalty': 'l1'}"
      ]
     },
     "execution_count": 206,
     "metadata": {},
     "output_type": "execute_result"
    }
   ],
   "source": [
    "log_grid_search2 = GridSearchCV(LogisticRegression(class_weight='balanced'), log_param_grid, cv=10) # penalize\n",
    "log_grid_search2.fit(X_train2, y_train2)\n",
    "log_grid_search2.best_params_"
   ]
  },
  {
   "cell_type": "code",
   "execution_count": 210,
   "metadata": {
    "collapsed": false
   },
   "outputs": [
    {
     "data": {
      "text/plain": [
       "0.64222222222222225"
      ]
     },
     "execution_count": 210,
     "metadata": {},
     "output_type": "execute_result"
    }
   ],
   "source": [
    "log_grid_search2.score(X_train2, y_train2)"
   ]
  },
  {
   "cell_type": "code",
   "execution_count": 208,
   "metadata": {
    "collapsed": false
   },
   "outputs": [
    {
     "data": {
      "text/plain": [
       "0.63666666666666671"
      ]
     },
     "execution_count": 208,
     "metadata": {},
     "output_type": "execute_result"
    }
   ],
   "source": [
    "# Accuracy\n",
    "log_grid_search2.score(X_test, y_test)"
   ]
  },
  {
   "cell_type": "code",
   "execution_count": 251,
   "metadata": {
    "collapsed": false
   },
   "outputs": [
    {
     "data": {
      "text/plain": [
       "0.63948689395237279"
      ]
     },
     "execution_count": 251,
     "metadata": {},
     "output_type": "execute_result"
    }
   ],
   "source": [
    "# AUROC\n",
    "prob_y_2 = log_grid_search2.best_estimator_.predict_proba(X_train2)\n",
    "prob_y_2 = [p[1] for p in prob_y_2]\n",
    "roc_auc_score(y_train2, prob_y_2)"
   ]
  },
  {
   "cell_type": "markdown",
   "metadata": {},
   "source": [
    "#### A third way is an over-sampling one - Synthetic Minority Oversampling Technique (SMOTE)"
   ]
  },
  {
   "cell_type": "code",
   "execution_count": 292,
   "metadata": {
    "collapsed": false
   },
   "outputs": [
    {
     "name": "stdout",
     "output_type": "stream",
     "text": [
      "number of canceled flights in training set: 910\n",
      "number of new flights to be created for training set: 3580\n"
     ]
    }
   ],
   "source": [
    "x_1 = train[train.canceled == 1].as_matrix()\n",
    "x_0 = train[train.canceled == 0].as_matrix()\n",
    "print 'number of canceled flights in training set: ' + str(len(x_1))\n",
    "print 'number of new flights to be created for training set: ' + str(len(x_0) - len(x_1))\n",
    "s=Smote(x_1,N=400)"
   ]
  },
  {
   "cell_type": "code",
   "execution_count": 293,
   "metadata": {
    "collapsed": false,
    "scrolled": true
   },
   "outputs": [
    {
     "name": "stdout",
     "output_type": "stream",
     "text": [
      "neighbors NearestNeighbors(algorithm='auto', leaf_size=30, metric='minkowski',\n",
      "         metric_params=None, n_jobs=1, n_neighbors=5, p=2, radius=1.0)\n"
     ]
    }
   ],
   "source": [
    "res = s.over_sampling()"
   ]
  },
  {
   "cell_type": "code",
   "execution_count": 294,
   "metadata": {
    "collapsed": false
   },
   "outputs": [
    {
     "data": {
      "text/plain": [
       "3640"
      ]
     },
     "execution_count": 294,
     "metadata": {},
     "output_type": "execute_result"
    }
   ],
   "source": [
    "len(res)"
   ]
  },
  {
   "cell_type": "code",
   "execution_count": 335,
   "metadata": {
    "collapsed": true
   },
   "outputs": [],
   "source": [
    "new_train = np.concatenate((x_1, x_0, res), axis=0)\n",
    "new_train = shuffle(new_train)"
   ]
  },
  {
   "cell_type": "code",
   "execution_count": 337,
   "metadata": {
    "collapsed": false
   },
   "outputs": [],
   "source": [
    "X_train3 = new_train[:,1:]\n",
    "y_train3 = new_train[:,0]"
   ]
  },
  {
   "cell_type": "code",
   "execution_count": 340,
   "metadata": {
    "collapsed": false,
    "scrolled": true
   },
   "outputs": [
    {
     "name": "stdout",
     "output_type": "stream",
     "text": [
      "{'penalty': 'l2', 'C': 0.01}\n",
      "training set score: 0.61592920354\n",
      "training set score: 0.601666666667\n",
      "auroc: 0.655450476027\n"
     ]
    }
   ],
   "source": [
    "log_grid_search3 = GridSearchCV(LogisticRegression(class_weight='balanced'), log_param_grid, cv=10) # penalize\n",
    "log_grid_search3.fit(X_train3, y_train3)\n",
    "print log_grid_search3.best_params_\n",
    "print 'training set score: '+str(log_grid_search3.score(X_train3, y_train3))\n",
    "print 'training set score: '+str(log_grid_search3.score(X_test, y_test))\n",
    "print 'auroc: '+str(roc_auc_score(y_train3, [p[1] for p in log_grid_search3.best_estimator_.predict_proba(X_train3)]))"
   ]
  },
  {
   "cell_type": "markdown",
   "metadata": {},
   "source": [
    "### SVM"
   ]
  },
  {
   "cell_type": "code",
   "execution_count": 350,
   "metadata": {
    "collapsed": true
   },
   "outputs": [],
   "source": [
    "from sklearn.svm import SVC\n",
    "def svc_param_selection(X, y, kernel, nfolds):\n",
    "    Cs = [0.001, 0.01, 0.1, 1, 10]\n",
    "    gammas = [0.001, 0.01, 0.1, 1]\n",
    "    svc_param_grid = {'C': Cs, 'gamma' : gammas}\n",
    "    svc_grid_search = GridSearchCV(SVC(kernel=kernel), svc_param_grid, cv=nfolds)\n",
    "    svc_grid_search.fit(X, y)\n",
    "    return svc_grid_search"
   ]
  },
  {
   "cell_type": "code",
   "execution_count": 352,
   "metadata": {
    "collapsed": false
   },
   "outputs": [],
   "source": [
    "svc1 = svc_param_selection(X_train3, y_train3,'rbf',10)"
   ]
  },
  {
   "cell_type": "code",
   "execution_count": 353,
   "metadata": {
    "collapsed": false
   },
   "outputs": [
    {
     "data": {
      "text/plain": [
       "SVC(C=10, cache_size=200, class_weight=None, coef0=0.0,\n",
       "  decision_function_shape=None, degree=3, gamma=1, kernel='rbf',\n",
       "  max_iter=-1, probability=False, random_state=None, shrinking=True,\n",
       "  tol=0.001, verbose=False)"
      ]
     },
     "execution_count": 353,
     "metadata": {},
     "output_type": "execute_result"
    }
   ],
   "source": [
    "svc1.best_estimator_"
   ]
  },
  {
   "cell_type": "code",
   "execution_count": 354,
   "metadata": {
    "collapsed": false
   },
   "outputs": [
    {
     "data": {
      "text/plain": [
       "0.64666666666666661"
      ]
     },
     "execution_count": 354,
     "metadata": {},
     "output_type": "execute_result"
    }
   ],
   "source": [
    "svc1.score(X_test,y_test)"
   ]
  },
  {
   "cell_type": "code",
   "execution_count": 368,
   "metadata": {
    "collapsed": true
   },
   "outputs": [],
   "source": [
    "cv = StratifiedKFold(y_train3, n_folds=10) \n",
    "# classifier = svm.SVC(kernel='linear', probability=True,  \n",
    "#                      random_state=random_state)#注意这里，probability=True,需要，不然预测的时候会出现异常。另外rbf核效果更好些。  \n",
    "\n",
    "classifier = SVC(C=10, cache_size=200, class_weight=None, coef0=0.0,\n",
    "  decision_function_shape=None, degree=3, gamma=1, kernel='rbf',\n",
    "  max_iter=-1, probability=True, random_state=None, shrinking=True,\n",
    "  tol=0.001, verbose=False)\n",
    "\n",
    "mean_tpr = 0.0  \n",
    "mean_fpr = np.linspace(0, 1, 100)  \n",
    "all_tpr = []  \n",
    "\n",
    "plt.rcParams[\"figure.figsize\"] = (6,6)\n",
    "for i, (train_set, test_set) in enumerate(cv):  \n",
    "    #通过训练数据，使用svm线性核建立模型，并对测试集进行测试，求出预测得分  \n",
    "    probas_ = classifier.fit(X_train3[train_set], y_train3[train_set]).predict_proba(X_train3[test_set])  \n",
    "#    print set(y[train])                     #set([0,1]) 即label有两个类别  \n",
    "#    print len(X[train]),len(X[test])        #训练集有84个，测试集有16个  \n",
    "#    print \"++\",probas_                      #predict_proba()函数输出的是测试集在lael各类别上的置信度，  \n",
    "#    #在哪个类别上的置信度高，则分为哪类  \n",
    "    # Compute ROC curve and area the curve  \n",
    "    #通过roc_curve()函数，求出fpr和tpr，以及阈值  \n",
    "    fpr, tpr, thresholds = roc_curve(y_train3[test_set], probas_[:, 1])  \n",
    "    mean_tpr += interp(mean_fpr, fpr, tpr)          #对mean_tpr在mean_fpr处进行插值，通过scipy包调用interp()函数  \n",
    "    mean_tpr[0] = 0.0                               #初始处为0  \n",
    "    roc_auc = auc(fpr, tpr)  \n",
    "    #画图，只需要plt.plot(fpr,tpr),变量roc_auc只是记录auc的值，通过auc()函数能计算出来  \n",
    "    plt.plot(fpr, tpr, lw=1, label='ROC fold %d (area = %0.3f)' % (i, roc_auc))  "
   ]
  },
  {
   "cell_type": "code",
   "execution_count": 369,
   "metadata": {
    "collapsed": false
   },
   "outputs": [
    {
     "data": {
      "image/png": "[encoded data removed]",
      "text/plain": [
       "<matplotlib.figure.Figure at 0x11b9f9710>"
      ]
     },
     "metadata": {},
     "output_type": "display_data"
    }
   ],
   "source": [
    "plt.plot([0, 1], [0, 1], '--', color=(0.6, 0.6, 0.6), label='Canceled')  \n",
    "  \n",
    "mean_tpr /= len(cv)                     #在mean_fpr100个点，每个点处插值插值多次取平均  \n",
    "mean_tpr[-1] = 1.0                      #坐标最后一个点为（1,1）  \n",
    "mean_auc = auc(mean_fpr, mean_tpr)      #计算平均AUC值  \n",
    "#画平均ROC曲线  \n",
    "#print mean_fpr,len(mean_fpr)  \n",
    "#print mean_tpr  \n",
    "plt.plot(mean_fpr, mean_tpr, 'k--',  \n",
    "         label='Mean ROC (area = %0.3f)' % mean_auc, lw=2)  \n",
    "  \n",
    "plt.xlim([-0.05, 1.05])  \n",
    "plt.ylim([-0.05, 1.05])  \n",
    "plt.xlabel('False Positive Rate')  \n",
    "plt.ylabel('True Positive Rate')  \n",
    "plt.title('Receiver operating characteristic example')  \n",
    "plt.legend(loc=\"lower right\")  \n",
    "plt.show()  "
   ]
  },
  {
   "cell_type": "markdown",
   "metadata": {},
   "source": [
    "### Random Forest"
   ]
  },
  {
   "cell_type": "code",
   "execution_count": 376,
   "metadata": {
    "collapsed": true
   },
   "outputs": [],
   "source": [
    "from sklearn.ensemble import RandomForestClassifier"
   ]
  },
  {
   "cell_type": "code",
   "execution_count": 126,
   "metadata": {
    "collapsed": false
   },
   "outputs": [
    {
     "data": {
      "text/plain": [
       "{'bootstrap': True,\n",
       " 'criterion': 'entropy',\n",
       " 'max_depth': 3,\n",
       " 'max_features': 2,\n",
       " 'min_samples_leaf': 3,\n",
       " 'min_samples_split': 2}"
      ]
     },
     "execution_count": 126,
     "metadata": {},
     "output_type": "execute_result"
    }
   ],
   "source": [
    "# rf_param_grid = {\"max_depth\": [2, 3, None],\n",
    "#           \"max_features\": [2, 3, 5],\n",
    "#           \"min_samples_split\": [2, 3, 10],\n",
    "#           \"min_samples_leaf\": [1, 3, 10],\n",
    "#           \"bootstrap\": [True, False],\n",
    "#           \"criterion\": [\"gini\", \"entropy\"]}\n",
    "# rf_grid_search = GridSearchCV(RandomForestClassifier(n_estimators=20), param_grid, cv=10)\n",
    "# rf_grid_search.fit(X, y)\n",
    "# rf_grid_search.best_params_"
   ]
  },
  {
   "cell_type": "code",
   "execution_count": 377,
   "metadata": {
    "collapsed": false
   },
   "outputs": [],
   "source": [
    "rf = RandomForestClassifier(bootstrap=True,criterion='entropy',max_depth=3)"
   ]
  },
  {
   "cell_type": "code",
   "execution_count": 414,
   "metadata": {
    "collapsed": false
   },
   "outputs": [],
   "source": [
    "X_train0 = train.as_matrix()[:,1:]\n",
    "y_train0 = train.as_matrix()[:,0]"
   ]
  },
  {
   "cell_type": "code",
   "execution_count": 415,
   "metadata": {
    "collapsed": false
   },
   "outputs": [
    {
     "data": {
      "text/plain": [
       "RandomForestClassifier(bootstrap=True, class_weight=None, criterion='entropy',\n",
       "            max_depth=3, max_features='auto', max_leaf_nodes=None,\n",
       "            min_impurity_split=1e-07, min_samples_leaf=1,\n",
       "            min_samples_split=2, min_weight_fraction_leaf=0.0,\n",
       "            n_estimators=10, n_jobs=1, oob_score=False, random_state=None,\n",
       "            verbose=0, warm_start=False)"
      ]
     },
     "execution_count": 415,
     "metadata": {},
     "output_type": "execute_result"
    }
   ],
   "source": [
    "rf.fit(X_train0,y_train0)"
   ]
  },
  {
   "cell_type": "code",
   "execution_count": 416,
   "metadata": {
    "collapsed": false
   },
   "outputs": [
    {
     "name": "stdout",
     "output_type": "stream",
     "text": [
      "[ 0.]\n"
     ]
    }
   ],
   "source": [
    "# Predict on training set\n",
    "pred_y_4 = rf.predict(X_train)\n",
    " \n",
    "# Is our model still predicting just one class?\n",
    "print np.unique( pred_y_4 ) \n",
    "# [0 1]"
   ]
  },
  {
   "cell_type": "code",
   "execution_count": 417,
   "metadata": {
    "collapsed": false
   },
   "outputs": [
    {
     "name": "stdout",
     "output_type": "stream",
     "text": [
      "0.5\n",
      "0.85\n",
      "0.685608107103\n"
     ]
    }
   ],
   "source": [
    "from sklearn.metrics import accuracy_score\n",
    "# How's our train accuracy?\n",
    "print accuracy_score(y_train, pred_y_4) \n",
    "\n",
    "# How's our test accuracy?\n",
    "print rf.score(X_test, y_test) \n",
    " \n",
    "# What about AUROC?\n",
    "prob_y_4 = rf.predict_proba(X_train)\n",
    "prob_y_4 = [p[1] for p in prob_y_4]\n",
    "print roc_auc_score(y_train, prob_y_4) "
   ]
  },
  {
   "cell_type": "code",
   "execution_count": 387,
   "metadata": {
    "collapsed": false
   },
   "outputs": [
    {
     "name": "stdout",
     "output_type": "stream",
     "text": [
      "0.637168141593\n",
      "0.61\n",
      "0.688800998556\n"
     ]
    }
   ],
   "source": [
    "rf.fit(X_train3,y_train3)\n",
    "# train\n",
    "print rf.score(X_train3, y_train3) \n",
    "\n",
    "# test\n",
    "print rf.score(X_test, y_test) \n",
    " \n",
    "# AUROC?\n",
    "prob_y_5 = rf.predict_proba(X_train3)\n",
    "prob_y_5 = [p[1] for p in prob_y_5]\n",
    "print roc_auc_score(y_train3, prob_y_5) "
   ]
  },
  {
   "cell_type": "code",
   "execution_count": 395,
   "metadata": {
    "collapsed": false
   },
   "outputs": [
    {
     "name": "stdout",
     "output_type": "stream",
     "text": [
      "0.651327433628\n",
      "0.673333333333\n",
      "0.711213857412\n"
     ]
    }
   ],
   "source": [
    "rf2 = RandomForestClassifier(bootstrap=True,criterion='entropy',max_depth=3,n_estimators=1000)\n",
    "rf2.fit(X_train3,y_train3)\n",
    "# train\n",
    "print rf2.score(X_train3, y_train3) \n",
    "# test\n",
    "print rf2.score(X_test, y_test)  \n",
    "# AUROC?\n",
    "print roc_auc_score(y_train3, [p[1] for p in rf2.predict_proba(X_train3)]) "
   ]
  },
  {
   "cell_type": "code",
   "execution_count": 396,
   "metadata": {
    "collapsed": false
   },
   "outputs": [
    {
     "name": "stdout",
     "output_type": "stream",
     "text": [
      "0.693584070796\n",
      "0.655\n",
      "0.76324391199\n"
     ]
    }
   ],
   "source": [
    "rf3 = RandomForestClassifier(bootstrap=True,criterion='entropy',max_depth=5,n_estimators=1000)\n",
    "rf3.fit(X_train3,y_train3)\n",
    "# train\n",
    "print rf3.score(X_train3, y_train3) \n",
    "# test\n",
    "print rf3.score(X_test, y_test)  \n",
    "# AUROC?\n",
    "print roc_auc_score(y_train3, [p[1] for p in rf3.predict_proba(X_train3)]) "
   ]
  },
  {
   "cell_type": "code",
   "execution_count": 397,
   "metadata": {
    "collapsed": false
   },
   "outputs": [
    {
     "name": "stderr",
     "output_type": "stream",
     "text": [
      "/Users/feiyiwang/Library/Enthought/Canopy/edm/envs/User/lib/python2.7/site-packages/ipykernel/__main__.py:2: FutureWarning: sort(columns=....) is deprecated, use sort_values(by=.....)\n",
      "  from ipykernel import kernelapp as app\n"
     ]
    },
    {
     "data": {
      "text/html": [
       "<div>\n",
       "<table border=\"1\" class=\"dataframe\">\n",
       "  <thead>\n",
       "    <tr style=\"text-align: right;\">\n",
       "      <th></th>\n",
       "      <th>columns</th>\n",
       "      <th>importance</th>\n",
       "    </tr>\n",
       "  </thead>\n",
       "  <tbody>\n",
       "    <tr>\n",
       "      <th>0</th>\n",
       "      <td>month</td>\n",
       "      <td>0.339972</td>\n",
       "    </tr>\n",
       "    <tr>\n",
       "      <th>6</th>\n",
       "      <td>distance_scaled</td>\n",
       "      <td>0.199827</td>\n",
       "    </tr>\n",
       "    <tr>\n",
       "      <th>5</th>\n",
       "      <td>schedElapsedTime_scaled</td>\n",
       "      <td>0.166277</td>\n",
       "    </tr>\n",
       "    <tr>\n",
       "      <th>2</th>\n",
       "      <td>uniqueCarrier_DL</td>\n",
       "      <td>0.119587</td>\n",
       "    </tr>\n",
       "    <tr>\n",
       "      <th>4</th>\n",
       "      <td>departureTime_scaled</td>\n",
       "      <td>0.085030</td>\n",
       "    </tr>\n",
       "    <tr>\n",
       "      <th>1</th>\n",
       "      <td>uniqueCarrier_AA</td>\n",
       "      <td>0.055896</td>\n",
       "    </tr>\n",
       "    <tr>\n",
       "      <th>3</th>\n",
       "      <td>uniqueCarrier_UA</td>\n",
       "      <td>0.033411</td>\n",
       "    </tr>\n",
       "  </tbody>\n",
       "</table>\n",
       "</div>"
      ],
      "text/plain": [
       "                   columns  importance\n",
       "0                    month    0.339972\n",
       "6          distance_scaled    0.199827\n",
       "5  schedElapsedTime_scaled    0.166277\n",
       "2         uniqueCarrier_DL    0.119587\n",
       "4     departureTime_scaled    0.085030\n",
       "1         uniqueCarrier_AA    0.055896\n",
       "3         uniqueCarrier_UA    0.033411"
      ]
     },
     "execution_count": 397,
     "metadata": {},
     "output_type": "execute_result"
    }
   ],
   "source": [
    "fi2 = rf3.feature_importances_\n",
    "pd.DataFrame({\"columns\":list(df2.columns)[1:], \"importance\":list(fi2.T)}).sort('importance',ascending=0)"
   ]
  },
  {
   "cell_type": "markdown",
   "metadata": {},
   "source": [
    "### Gradient Boosting Decison Tree"
   ]
  },
  {
   "cell_type": "code",
   "execution_count": 398,
   "metadata": {
    "collapsed": true
   },
   "outputs": [],
   "source": [
    "# from sklearn.ensemble import GradientBoostingRegressor\n",
    "# gbdt=GradientBoostingRegressor(loss='ls', learning_rate=0.1, n_estimators=100, subsample=1\n",
    "# , min_samples_split=2, min_samples_leaf=1, max_depth=3, init=None, random_state=None, max_features=None\n",
    "# , alpha=0.9, verbose=0, max_leaf_nodes=None, warm_start=False)"
   ]
  },
  {
   "cell_type": "code",
   "execution_count": 405,
   "metadata": {
    "collapsed": false
   },
   "outputs": [
    {
     "data": {
      "text/plain": [
       "array([ 0.59270299,  0.49117804,  0.70379298,  0.52996289,  0.38549171,\n",
       "        0.15094973,  0.06511925,  0.58021915,  0.60425107,  0.56241255,\n",
       "        0.42834414,  0.45286677,  0.31469259,  0.46312274,  0.29930867,\n",
       "        0.40257767,  0.52905523,  0.68795223,  0.45633107,  0.22217588])"
      ]
     },
     "execution_count": 405,
     "metadata": {},
     "output_type": "execute_result"
    }
   ],
   "source": [
    "# gbdt.fit(X_train3,y_train3)\n",
    "# pred=gbdt.predict(X_test)\n",
    "# pred[:20]"
   ]
  },
  {
   "cell_type": "code",
   "execution_count": 407,
   "metadata": {
    "collapsed": false
   },
   "outputs": [
    {
     "name": "stdout",
     "output_type": "stream",
     "text": [
      "Train Set Accuracy : 0.9851\n",
      "Train Set Accuracy : 0.7667\n",
      "AUC Score (Train): 0.998762\n"
     ]
    }
   ],
   "source": [
    "from sklearn.ensemble import GradientBoostingClassifier\n",
    "gbc = GradientBoostingClassifier(n_estimators=1000,max_depth=5)\n",
    "gbc.fit(X_train3,y_train3)\n",
    "print \"Train Set Accuracy : %.4g\" % accuracy_score(y_train3, gbc.predict(X_train3))\n",
    "print \"Train Set Accuracy : %.4g\" % accuracy_score(y_test, gbc.predict(X_test))\n",
    "print \"AUC Score (Train): %f\" % roc_auc_score(y_train3, [p[1] for p in gbc.predict_proba(X_train3)]) "
   ]
  },
  {
   "cell_type": "code",
   "execution_count": 420,
   "metadata": {
    "collapsed": false
   },
   "outputs": [
    {
     "name": "stdout",
     "output_type": "stream",
     "text": [
      "Train Set Accuracy : 0.9923\n",
      "Train Set Accuracy : 0.7833\n",
      "AUC Score (Train): 0.999812\n"
     ]
    }
   ],
   "source": [
    "gbc2 = GradientBoostingClassifier(n_estimators=1000,max_depth=7)\n",
    "gbc2.fit(X_train3,y_train3)\n",
    "print \"Train Set Accuracy : %.4g\" % accuracy_score(y_train3, gbc2.predict(X_train3))\n",
    "print \"Train Set Accuracy : %.4g\" % accuracy_score(y_test, gbc2.predict(X_test))\n",
    "print \"AUC Score (Train): %f\" % roc_auc_score(y_train3, [p[1] for p in gbc2.predict_proba(X_train3)]) "
   ]
  },
  {
   "cell_type": "code",
   "execution_count": 496,
   "metadata": {
    "collapsed": false
   },
   "outputs": [
    {
     "data": {
      "text/plain": [
       "Index([u'canceled', u'month', u'uniqueCarrier_AA', u'uniqueCarrier_DL',\n",
       "       u'uniqueCarrier_UA', u'departureTime_scaled',\n",
       "       u'schedElapsedTime_scaled', u'distance_scaled'],\n",
       "      dtype='object')"
      ]
     },
     "execution_count": 496,
     "metadata": {},
     "output_type": "execute_result"
    }
   ],
   "source": [
    "df2.columns[1:-1]"
   ]
  },
  {
   "cell_type": "code",
   "execution_count": 500,
   "metadata": {
    "collapsed": false
   },
   "outputs": [
    {
     "name": "stderr",
     "output_type": "stream",
     "text": [
      "/Users/feiyiwang/Library/Enthought/Canopy/edm/envs/User/lib/python2.7/site-packages/ipykernel/__main__.py:2: FutureWarning: sort(columns=....) is deprecated, use sort_values(by=.....)\n",
      "  from ipykernel import kernelapp as app\n"
     ]
    },
    {
     "data": {
      "text/html": [
       "<div>\n",
       "<table border=\"1\" class=\"dataframe\">\n",
       "  <thead>\n",
       "    <tr style=\"text-align: right;\">\n",
       "      <th></th>\n",
       "      <th>columns</th>\n",
       "      <th>importance</th>\n",
       "    </tr>\n",
       "  </thead>\n",
       "  <tbody>\n",
       "    <tr>\n",
       "      <th>4</th>\n",
       "      <td>departureTime_scaled</td>\n",
       "      <td>0.319557</td>\n",
       "    </tr>\n",
       "    <tr>\n",
       "      <th>6</th>\n",
       "      <td>distance_scaled</td>\n",
       "      <td>0.245279</td>\n",
       "    </tr>\n",
       "    <tr>\n",
       "      <th>5</th>\n",
       "      <td>schedElapsedTime_scaled</td>\n",
       "      <td>0.228425</td>\n",
       "    </tr>\n",
       "    <tr>\n",
       "      <th>0</th>\n",
       "      <td>month</td>\n",
       "      <td>0.163442</td>\n",
       "    </tr>\n",
       "    <tr>\n",
       "      <th>3</th>\n",
       "      <td>uniqueCarrier_UA</td>\n",
       "      <td>0.015699</td>\n",
       "    </tr>\n",
       "    <tr>\n",
       "      <th>1</th>\n",
       "      <td>uniqueCarrier_AA</td>\n",
       "      <td>0.014362</td>\n",
       "    </tr>\n",
       "    <tr>\n",
       "      <th>2</th>\n",
       "      <td>uniqueCarrier_DL</td>\n",
       "      <td>0.013237</td>\n",
       "    </tr>\n",
       "  </tbody>\n",
       "</table>\n",
       "</div>"
      ],
      "text/plain": [
       "                   columns  importance\n",
       "4     departureTime_scaled    0.319557\n",
       "6          distance_scaled    0.245279\n",
       "5  schedElapsedTime_scaled    0.228425\n",
       "0                    month    0.163442\n",
       "3         uniqueCarrier_UA    0.015699\n",
       "1         uniqueCarrier_AA    0.014362\n",
       "2         uniqueCarrier_DL    0.013237"
      ]
     },
     "execution_count": 500,
     "metadata": {},
     "output_type": "execute_result"
    }
   ],
   "source": [
    "fi3 = gbc2.feature_importances_\n",
    "pd.DataFrame({\"columns\":list(df2.columns[:-1])[1:], \"importance\":list(fi3.T)}).sort('importance',ascending=0)"
   ]
  },
  {
   "cell_type": "code",
   "execution_count": 421,
   "metadata": {
    "collapsed": false
   },
   "outputs": [
    {
     "data": {
      "image/png": "[encoded data removed]",
      "text/plain": [
       "<matplotlib.figure.Figure at 0x11adb6510>"
      ]
     },
     "metadata": {},
     "output_type": "display_data"
    }
   ],
   "source": [
    "train_sizes, train_scores, test_scores = learning_curve(\n",
    "        gbc2, X_train3, y_train3, cv=None, n_jobs=1, train_sizes=np.linspace(0.01,1, 20), verbose=0)\n",
    "train_scores_mean = np.mean(train_scores, axis=1)\n",
    "train_scores_std = np.std(train_scores, axis=1)\n",
    "test_scores_mean = np.mean(test_scores, axis=1)\n",
    "test_scores_std = np.std(test_scores, axis=1)\n",
    "\n",
    "plt.rcParams[\"figure.figsize\"] = (8,4)\n",
    "plt.figure()\n",
    "plt.title('Learning Curve')\n",
    "plt.xlabel('Training examples')\n",
    "plt.ylabel('Score')\n",
    "\n",
    "plt.grid()\n",
    "\n",
    "plt.fill_between(train_sizes, train_scores_mean - train_scores_std, train_scores_mean + train_scores_std, \n",
    "                 alpha=0.1, color=\"b\")\n",
    "plt.fill_between(train_sizes, test_scores_mean - test_scores_std, test_scores_mean + test_scores_std, \n",
    "                 alpha=0.1, color=\"r\")\n",
    "plt.plot(train_sizes, train_scores_mean, 'o-', color=\"b\", label='Training score')\n",
    "plt.plot(train_sizes, test_scores_mean, 'o-', color=\"r\", label='Cross-validation score')\n",
    "\n",
    "# plt.ylim((1,0.8))\n",
    "plt.legend(loc=\"best\")\n",
    "\n",
    "# plt.draw()\n",
    "# plt.gca().invert_yaxis()\n",
    "plt.show()"
   ]
  },
  {
   "cell_type": "code",
   "execution_count": 536,
   "metadata": {
    "collapsed": false
   },
   "outputs": [
    {
     "data": {
      "text/plain": [
       "array([[447,  63],\n",
       "       [ 67,  23]])"
      ]
     },
     "execution_count": 536,
     "metadata": {},
     "output_type": "execute_result"
    }
   ],
   "source": [
    "confusion_matrix(y_test, gbc2.predict(X_test))"
   ]
  },
  {
   "cell_type": "code",
   "execution_count": 549,
   "metadata": {
    "collapsed": false
   },
   "outputs": [
    {
     "data": {
      "text/plain": [
       "0.2613636363636363"
      ]
     },
     "execution_count": 549,
     "metadata": {},
     "output_type": "execute_result"
    }
   ],
   "source": [
    "from sklearn.metrics import f1_score\n",
    "f1_score(y_test, gbc2.predict(X_test), average='binary')"
   ]
  },
  {
   "cell_type": "code",
   "execution_count": 541,
   "metadata": {
    "collapsed": false
   },
   "outputs": [
    {
     "data": {
      "text/plain": [
       "0.9085365853658537"
      ]
     },
     "execution_count": 541,
     "metadata": {},
     "output_type": "execute_result"
    }
   ],
   "source": [
    "# 2 * (precision * recall) / (precision + recall)\n",
    "p = 447/float(447+67)\n",
    "r = 447/float(447+23)\n",
    "2*(p*r)/(p+r)"
   ]
  },
  {
   "cell_type": "code",
   "execution_count": 555,
   "metadata": {
    "collapsed": false
   },
   "outputs": [
    {
     "data": {
      "text/plain": [
       "0.9085365853658537"
      ]
     },
     "execution_count": 555,
     "metadata": {},
     "output_type": "execute_result"
    }
   ],
   "source": [
    "2*447/float(2*447+67+23)"
   ]
  },
  {
   "cell_type": "code",
   "execution_count": 429,
   "metadata": {
    "collapsed": false,
    "scrolled": true
   },
   "outputs": [
    {
     "data": {
      "text/plain": [
       "array([ 1.,  0.,  1.,  0.,  0.,  0.,  0.,  0.,  0.,  0.,  0.,  0.,  0.,\n",
       "        0.,  1.,  0.,  1.,  0.,  0.,  0.,  0.,  0.,  0.,  0.,  0.,  0.,\n",
       "        1.,  0.,  0.,  0.,  0.,  0.,  1.,  0.,  1.,  0.,  0.,  0.,  0.,\n",
       "        1.,  1.,  0.,  0.,  0.,  0.,  0.,  0.,  0.,  0.,  0.,  0.,  0.,\n",
       "        0.,  0.,  1.,  0.,  0.,  0.,  0.,  0.,  1.,  0.,  0.,  0.,  1.,\n",
       "        0.,  0.,  0.,  0.,  0.,  0.,  0.,  0.,  0.,  0.,  0.,  1.,  0.,\n",
       "        0.,  0.,  0.,  0.,  0.,  0.,  1.,  0.,  0.,  0.,  0.,  0.,  0.,\n",
       "        0.,  0.,  0.,  1.,  0.,  0.,  0.,  0.,  0.,  1.,  0.,  0.,  0.,\n",
       "        0.,  0.,  0.,  0.,  0.,  0.,  0.,  0.,  0.,  0.,  1.,  0.,  0.,\n",
       "        0.,  0.,  0.,  0.,  0.,  0.,  0.,  0.,  0.,  0.,  1.,  0.,  0.,\n",
       "        0.,  0.,  0.,  0.,  0.,  0.,  1.,  0.,  0.,  0.,  0.,  0.,  0.,\n",
       "        0.,  1.,  1.,  0.,  0.,  0.,  1.,  0.,  0.,  0.,  0.,  0.,  0.,\n",
       "        0.,  1.,  0.,  0.,  0.,  0.,  1.,  1.,  0.,  0.,  1.,  0.,  0.,\n",
       "        0.,  0.,  0.,  0.,  0.,  0.,  0.,  0.,  0.,  0.,  0.,  0.,  0.,\n",
       "        0.,  0.,  0.,  0.,  0.,  0.,  0.,  1.,  0.,  0.,  0.,  1.,  0.,\n",
       "        0.,  1.,  1.,  0.,  0.,  0.,  0.,  0.,  0.,  0.,  0.,  0.,  1.,\n",
       "        0.,  0.,  1.,  0.,  0.,  1.,  1.,  0.,  0.,  0.,  0.,  0.,  0.,\n",
       "        0.,  0.,  0.,  0.,  0.,  0.,  0.,  0.,  0.,  1.,  0.,  0.,  0.,\n",
       "        0.,  0.,  1.,  0.,  0.,  1.,  0.,  0.,  0.,  0.,  0.,  0.,  0.,\n",
       "        1.,  0.,  0.,  0.,  1.,  0.,  0.,  0.,  0.,  0.,  0.,  0.,  0.,\n",
       "        0.,  1.,  0.,  0.,  0.,  0.,  0.,  0.,  0.,  0.,  0.,  0.,  0.,\n",
       "        0.,  0.,  0.,  0.,  0.,  0.,  0.,  0.,  0.,  0.,  1.,  0.,  0.,\n",
       "        0.,  0.,  0.,  0.,  0.,  0.,  0.,  0.,  0.,  0.,  0.,  1.,  1.,\n",
       "        0.,  1.,  1.,  0.,  0.,  1.,  0.,  0.,  1.,  0.,  0.,  0.,  0.,\n",
       "        0.,  1.,  0.,  0.,  0.,  1.,  0.,  0.,  0.,  0.,  0.,  0.,  0.,\n",
       "        0.,  0.,  0.,  0.,  0.,  0.,  0.,  0.,  0.,  0.,  0.,  0.,  0.,\n",
       "        0.,  1.,  0.,  1.,  0.,  0.,  0.,  1.,  0.,  0.,  0.,  0.,  0.,\n",
       "        0.,  0.,  0.,  0.,  1.,  0.,  0.,  0.,  0.,  1.,  0.,  0.,  0.,\n",
       "        0.,  0.,  0.,  0.,  0.,  0.,  0.,  0.,  0.,  1.,  0.,  1.,  0.,\n",
       "        0.,  0.,  0.,  0.,  0.,  0.,  0.,  0.,  1.,  0.,  0.,  0.,  0.,\n",
       "        0.,  0.,  0.,  1.,  1.,  0.,  0.,  0.,  0.,  0.,  0.,  0.,  0.,\n",
       "        1.,  0.,  0.,  0.,  0.,  0.,  0.,  0.,  0.,  0.,  0.,  0.,  0.,\n",
       "        1.,  1.,  0.,  0.,  0.,  0.,  0.,  0.,  0.,  0.,  0.,  0.,  0.,\n",
       "        0.,  1.,  1.,  0.,  1.,  0.,  0.,  0.,  0.,  0.,  0.,  0.,  0.,\n",
       "        0.,  0.,  0.,  0.,  0.,  0.,  0.,  0.,  0.,  0.,  0.,  0.,  0.,\n",
       "        0.,  1.,  0.,  0.,  0.,  1.,  0.,  0.,  0.,  0.,  0.,  0.,  0.,\n",
       "        0.,  0.,  0.,  0.,  0.,  0.,  0.,  0.,  0.,  0.,  0.,  0.,  1.,\n",
       "        1.,  0.,  0.,  0.,  0.,  0.,  0.,  0.,  1.,  0.,  0.,  0.,  0.,\n",
       "        0.,  0.,  0.,  0.,  0.,  0.,  1.,  1.,  0.,  1.,  0.,  0.,  0.,\n",
       "        0.,  0.,  0.,  0.,  0.,  0.,  0.,  0.,  0.,  0.,  0.,  0.,  0.,\n",
       "        0.,  0.,  0.,  1.,  0.,  0.,  1.,  0.,  0.,  0.,  0.,  1.,  0.,\n",
       "        0.,  0.,  0.,  0.,  1.,  0.,  0.,  0.,  0.,  0.,  0.,  0.,  0.,\n",
       "        0.,  0.,  0.,  0.,  0.,  0.,  0.,  1.,  0.,  0.,  0.,  1.,  0.,\n",
       "        0.,  0.,  0.,  0.,  0.,  0.,  0.,  0.,  0.,  0.,  1.,  1.,  0.,\n",
       "        1.,  0.,  0.,  0.,  0.,  0.,  0.,  0.,  0.,  0.,  0.,  0.,  1.,\n",
       "        1.,  1.,  0.,  0.,  1.,  0.,  0.,  0.,  0.,  0.,  0.,  0.,  0.,\n",
       "        0.,  0.])"
      ]
     },
     "execution_count": 429,
     "metadata": {},
     "output_type": "execute_result"
    }
   ],
   "source": [
    "gbc2.predict(X_test)"
   ]
  },
  {
   "cell_type": "markdown",
   "metadata": {},
   "source": [
    "# Model Optimization "
   ]
  },
  {
   "cell_type": "markdown",
   "metadata": {},
   "source": [
    "#### Observe the data again - bad cases in test set"
   ]
  },
  {
   "cell_type": "code",
   "execution_count": 392,
   "metadata": {
    "collapsed": false
   },
   "outputs": [
    {
     "data": {
      "text/plain": [
       "0    510\n",
       "1     90\n",
       "Name: canceled, dtype: int64"
      ]
     },
     "execution_count": 392,
     "metadata": {},
     "output_type": "execute_result"
    }
   ],
   "source": [
    "test.canceled.value_counts()"
   ]
  },
  {
   "cell_type": "code",
   "execution_count": 431,
   "metadata": {
    "collapsed": false
   },
   "outputs": [
    {
     "name": "stderr",
     "output_type": "stream",
     "text": [
      "/Users/feiyiwang/Library/Enthought/Canopy/edm/envs/User/lib/python2.7/site-packages/ipykernel/__main__.py:1: SettingWithCopyWarning: \n",
      "A value is trying to be set on a copy of a slice from a DataFrame.\n",
      "Try using .loc[row_indexer,col_indexer] = value instead\n",
      "\n",
      "See the caveats in the documentation: http://pandas.pydata.org/pandas-docs/stable/indexing.html#indexing-view-versus-copy\n",
      "  if __name__ == '__main__':\n"
     ]
    }
   ],
   "source": [
    "test['canceled_pred'] = pd.Series(gbc2.predict(X_test), index=test.index)"
   ]
  },
  {
   "cell_type": "code",
   "execution_count": 447,
   "metadata": {
    "collapsed": false
   },
   "outputs": [
    {
     "data": {
      "text/html": [
       "<div>\n",
       "<table border=\"1\" class=\"dataframe\">\n",
       "  <thead>\n",
       "    <tr style=\"text-align: right;\">\n",
       "      <th></th>\n",
       "      <th>canceled</th>\n",
       "      <th>canceled_pred</th>\n",
       "    </tr>\n",
       "  </thead>\n",
       "  <tbody>\n",
       "    <tr>\n",
       "      <th>3726</th>\n",
       "      <td>0</td>\n",
       "      <td>1</td>\n",
       "    </tr>\n",
       "    <tr>\n",
       "      <th>2786</th>\n",
       "      <td>0</td>\n",
       "      <td>0</td>\n",
       "    </tr>\n",
       "    <tr>\n",
       "      <th>2182</th>\n",
       "      <td>0</td>\n",
       "      <td>1</td>\n",
       "    </tr>\n",
       "    <tr>\n",
       "      <th>2891</th>\n",
       "      <td>0</td>\n",
       "      <td>0</td>\n",
       "    </tr>\n",
       "    <tr>\n",
       "      <th>3478</th>\n",
       "      <td>0</td>\n",
       "      <td>0</td>\n",
       "    </tr>\n",
       "  </tbody>\n",
       "</table>\n",
       "</div>"
      ],
      "text/plain": [
       "      canceled  canceled_pred\n",
       "3726         0              1\n",
       "2786         0              0\n",
       "2182         0              1\n",
       "2891         0              0\n",
       "3478         0              0"
      ]
     },
     "execution_count": 447,
     "metadata": {},
     "output_type": "execute_result"
    }
   ],
   "source": [
    "test.canceled_pred = test.canceled_pred.astype(int)\n",
    "test[['canceled','canceled_pred']].head()"
   ]
  },
  {
   "cell_type": "code",
   "execution_count": 438,
   "metadata": {
    "collapsed": false
   },
   "outputs": [
    {
     "data": {
      "text/plain": [
       "True"
      ]
     },
     "execution_count": 438,
     "metadata": {},
     "output_type": "execute_result"
    }
   ],
   "source": [
    "float(test.loc[2891,'canceled']) == test.loc[2891,'canceled_pred']"
   ]
  },
  {
   "cell_type": "code",
   "execution_count": 444,
   "metadata": {
    "collapsed": false
   },
   "outputs": [
    {
     "data": {
      "text/plain": [
       "130"
      ]
     },
     "execution_count": 444,
     "metadata": {},
     "output_type": "execute_result"
    }
   ],
   "source": [
    "bad_cases = test[test.canceled != test.canceled_pred]\n",
    "len(bad_cases)"
   ]
  },
  {
   "cell_type": "code",
   "execution_count": 446,
   "metadata": {
    "collapsed": false
   },
   "outputs": [
    {
     "data": {
      "text/html": [
       "<div>\n",
       "<table border=\"1\" class=\"dataframe\">\n",
       "  <thead>\n",
       "    <tr style=\"text-align: right;\">\n",
       "      <th></th>\n",
       "      <th>canceled</th>\n",
       "      <th>month</th>\n",
       "      <th>uniqueCarrier_AA</th>\n",
       "      <th>uniqueCarrier_DL</th>\n",
       "      <th>uniqueCarrier_UA</th>\n",
       "      <th>departureTime_scaled</th>\n",
       "      <th>schedElapsedTime_scaled</th>\n",
       "      <th>distance_scaled</th>\n",
       "      <th>canceled_pred</th>\n",
       "    </tr>\n",
       "  </thead>\n",
       "  <tbody>\n",
       "    <tr>\n",
       "      <th>3726</th>\n",
       "      <td>0</td>\n",
       "      <td>1</td>\n",
       "      <td>0</td>\n",
       "      <td>0</td>\n",
       "      <td>1</td>\n",
       "      <td>1.022771</td>\n",
       "      <td>-0.290724</td>\n",
       "      <td>-0.186493</td>\n",
       "      <td>1</td>\n",
       "    </tr>\n",
       "    <tr>\n",
       "      <th>2182</th>\n",
       "      <td>0</td>\n",
       "      <td>2</td>\n",
       "      <td>0</td>\n",
       "      <td>0</td>\n",
       "      <td>1</td>\n",
       "      <td>-0.502018</td>\n",
       "      <td>-0.431644</td>\n",
       "      <td>-0.393727</td>\n",
       "      <td>1</td>\n",
       "    </tr>\n",
       "    <tr>\n",
       "      <th>4044</th>\n",
       "      <td>0</td>\n",
       "      <td>9</td>\n",
       "      <td>1</td>\n",
       "      <td>0</td>\n",
       "      <td>0</td>\n",
       "      <td>0.009875</td>\n",
       "      <td>0.106414</td>\n",
       "      <td>0.178486</td>\n",
       "      <td>1</td>\n",
       "    </tr>\n",
       "    <tr>\n",
       "      <th>2513</th>\n",
       "      <td>0</td>\n",
       "      <td>2</td>\n",
       "      <td>1</td>\n",
       "      <td>0</td>\n",
       "      <td>0</td>\n",
       "      <td>-0.937672</td>\n",
       "      <td>2.796705</td>\n",
       "      <td>2.300311</td>\n",
       "      <td>1</td>\n",
       "    </tr>\n",
       "    <tr>\n",
       "      <th>5980</th>\n",
       "      <td>0</td>\n",
       "      <td>7</td>\n",
       "      <td>0</td>\n",
       "      <td>0</td>\n",
       "      <td>1</td>\n",
       "      <td>1.066336</td>\n",
       "      <td>-0.444455</td>\n",
       "      <td>-0.590135</td>\n",
       "      <td>1</td>\n",
       "    </tr>\n",
       "    <tr>\n",
       "      <th>2878</th>\n",
       "      <td>0</td>\n",
       "      <td>12</td>\n",
       "      <td>0</td>\n",
       "      <td>0</td>\n",
       "      <td>1</td>\n",
       "      <td>-0.595684</td>\n",
       "      <td>-0.252292</td>\n",
       "      <td>-0.393727</td>\n",
       "      <td>1</td>\n",
       "    </tr>\n",
       "    <tr>\n",
       "      <th>3407</th>\n",
       "      <td>0</td>\n",
       "      <td>6</td>\n",
       "      <td>0</td>\n",
       "      <td>0</td>\n",
       "      <td>1</td>\n",
       "      <td>0.815835</td>\n",
       "      <td>-0.239481</td>\n",
       "      <td>-0.393727</td>\n",
       "      <td>1</td>\n",
       "    </tr>\n",
       "    <tr>\n",
       "      <th>507</th>\n",
       "      <td>1</td>\n",
       "      <td>1</td>\n",
       "      <td>1</td>\n",
       "      <td>0</td>\n",
       "      <td>0</td>\n",
       "      <td>0.467312</td>\n",
       "      <td>1.387505</td>\n",
       "      <td>0.888338</td>\n",
       "      <td>0</td>\n",
       "    </tr>\n",
       "    <tr>\n",
       "      <th>189</th>\n",
       "      <td>1</td>\n",
       "      <td>12</td>\n",
       "      <td>1</td>\n",
       "      <td>0</td>\n",
       "      <td>0</td>\n",
       "      <td>0.184137</td>\n",
       "      <td>1.195341</td>\n",
       "      <td>0.620790</td>\n",
       "      <td>0</td>\n",
       "    </tr>\n",
       "    <tr>\n",
       "      <th>1880</th>\n",
       "      <td>0</td>\n",
       "      <td>8</td>\n",
       "      <td>0</td>\n",
       "      <td>1</td>\n",
       "      <td>0</td>\n",
       "      <td>0.271268</td>\n",
       "      <td>0.234523</td>\n",
       "      <td>0.136730</td>\n",
       "      <td>1</td>\n",
       "    </tr>\n",
       "    <tr>\n",
       "      <th>5141</th>\n",
       "      <td>0</td>\n",
       "      <td>7</td>\n",
       "      <td>0</td>\n",
       "      <td>0</td>\n",
       "      <td>1</td>\n",
       "      <td>0.933462</td>\n",
       "      <td>-0.546943</td>\n",
       "      <td>-0.596321</td>\n",
       "      <td>1</td>\n",
       "    </tr>\n",
       "    <tr>\n",
       "      <th>501</th>\n",
       "      <td>1</td>\n",
       "      <td>1</td>\n",
       "      <td>0</td>\n",
       "      <td>0</td>\n",
       "      <td>1</td>\n",
       "      <td>1.022771</td>\n",
       "      <td>0.157657</td>\n",
       "      <td>-0.186493</td>\n",
       "      <td>0</td>\n",
       "    </tr>\n",
       "    <tr>\n",
       "      <th>2929</th>\n",
       "      <td>0</td>\n",
       "      <td>3</td>\n",
       "      <td>1</td>\n",
       "      <td>0</td>\n",
       "      <td>0</td>\n",
       "      <td>-1.591153</td>\n",
       "      <td>-0.149804</td>\n",
       "      <td>0.104253</td>\n",
       "      <td>1</td>\n",
       "    </tr>\n",
       "    <tr>\n",
       "      <th>279</th>\n",
       "      <td>1</td>\n",
       "      <td>2</td>\n",
       "      <td>0</td>\n",
       "      <td>0</td>\n",
       "      <td>1</td>\n",
       "      <td>-1.517092</td>\n",
       "      <td>0.067981</td>\n",
       "      <td>0.037752</td>\n",
       "      <td>0</td>\n",
       "    </tr>\n",
       "    <tr>\n",
       "      <th>3896</th>\n",
       "      <td>0</td>\n",
       "      <td>4</td>\n",
       "      <td>0</td>\n",
       "      <td>0</td>\n",
       "      <td>1</td>\n",
       "      <td>1.467138</td>\n",
       "      <td>-0.136993</td>\n",
       "      <td>-0.287017</td>\n",
       "      <td>1</td>\n",
       "    </tr>\n",
       "    <tr>\n",
       "      <th>847</th>\n",
       "      <td>1</td>\n",
       "      <td>7</td>\n",
       "      <td>0</td>\n",
       "      <td>0</td>\n",
       "      <td>1</td>\n",
       "      <td>-1.591153</td>\n",
       "      <td>-0.828783</td>\n",
       "      <td>-0.888613</td>\n",
       "      <td>0</td>\n",
       "    </tr>\n",
       "    <tr>\n",
       "      <th>609</th>\n",
       "      <td>1</td>\n",
       "      <td>2</td>\n",
       "      <td>1</td>\n",
       "      <td>0</td>\n",
       "      <td>0</td>\n",
       "      <td>-0.643606</td>\n",
       "      <td>-0.341968</td>\n",
       "      <td>-0.526727</td>\n",
       "      <td>0</td>\n",
       "    </tr>\n",
       "    <tr>\n",
       "      <th>4765</th>\n",
       "      <td>0</td>\n",
       "      <td>9</td>\n",
       "      <td>1</td>\n",
       "      <td>0</td>\n",
       "      <td>0</td>\n",
       "      <td>-0.621823</td>\n",
       "      <td>-0.726295</td>\n",
       "      <td>-0.647356</td>\n",
       "      <td>1</td>\n",
       "    </tr>\n",
       "    <tr>\n",
       "      <th>602</th>\n",
       "      <td>1</td>\n",
       "      <td>11</td>\n",
       "      <td>1</td>\n",
       "      <td>0</td>\n",
       "      <td>0</td>\n",
       "      <td>-1.591153</td>\n",
       "      <td>-0.341968</td>\n",
       "      <td>-0.551472</td>\n",
       "      <td>0</td>\n",
       "    </tr>\n",
       "    <tr>\n",
       "      <th>606</th>\n",
       "      <td>1</td>\n",
       "      <td>8</td>\n",
       "      <td>0</td>\n",
       "      <td>1</td>\n",
       "      <td>0</td>\n",
       "      <td>-1.373326</td>\n",
       "      <td>-0.867215</td>\n",
       "      <td>-0.842218</td>\n",
       "      <td>0</td>\n",
       "    </tr>\n",
       "    <tr>\n",
       "      <th>57</th>\n",
       "      <td>1</td>\n",
       "      <td>7</td>\n",
       "      <td>1</td>\n",
       "      <td>0</td>\n",
       "      <td>0</td>\n",
       "      <td>1.273272</td>\n",
       "      <td>0.298577</td>\n",
       "      <td>0.376440</td>\n",
       "      <td>0</td>\n",
       "    </tr>\n",
       "    <tr>\n",
       "      <th>4320</th>\n",
       "      <td>0</td>\n",
       "      <td>2</td>\n",
       "      <td>0</td>\n",
       "      <td>1</td>\n",
       "      <td>0</td>\n",
       "      <td>0.247307</td>\n",
       "      <td>-1.213110</td>\n",
       "      <td>-1.176266</td>\n",
       "      <td>1</td>\n",
       "    </tr>\n",
       "    <tr>\n",
       "      <th>971</th>\n",
       "      <td>1</td>\n",
       "      <td>6</td>\n",
       "      <td>1</td>\n",
       "      <td>0</td>\n",
       "      <td>0</td>\n",
       "      <td>0.238594</td>\n",
       "      <td>-0.085750</td>\n",
       "      <td>-0.090609</td>\n",
       "      <td>0</td>\n",
       "    </tr>\n",
       "    <tr>\n",
       "      <th>4327</th>\n",
       "      <td>0</td>\n",
       "      <td>5</td>\n",
       "      <td>0</td>\n",
       "      <td>0</td>\n",
       "      <td>1</td>\n",
       "      <td>-0.634893</td>\n",
       "      <td>-0.162615</td>\n",
       "      <td>-0.061225</td>\n",
       "      <td>1</td>\n",
       "    </tr>\n",
       "    <tr>\n",
       "      <th>3509</th>\n",
       "      <td>0</td>\n",
       "      <td>12</td>\n",
       "      <td>0</td>\n",
       "      <td>0</td>\n",
       "      <td>1</td>\n",
       "      <td>0.929105</td>\n",
       "      <td>2.514865</td>\n",
       "      <td>2.038949</td>\n",
       "      <td>1</td>\n",
       "    </tr>\n",
       "    <tr>\n",
       "      <th>539</th>\n",
       "      <td>1</td>\n",
       "      <td>10</td>\n",
       "      <td>1</td>\n",
       "      <td>0</td>\n",
       "      <td>0</td>\n",
       "      <td>-1.079260</td>\n",
       "      <td>0.618850</td>\n",
       "      <td>0.620790</td>\n",
       "      <td>0</td>\n",
       "    </tr>\n",
       "    <tr>\n",
       "      <th>572</th>\n",
       "      <td>1</td>\n",
       "      <td>7</td>\n",
       "      <td>0</td>\n",
       "      <td>0</td>\n",
       "      <td>1</td>\n",
       "      <td>0.831083</td>\n",
       "      <td>-0.956892</td>\n",
       "      <td>-1.006149</td>\n",
       "      <td>0</td>\n",
       "    </tr>\n",
       "    <tr>\n",
       "      <th>565</th>\n",
       "      <td>1</td>\n",
       "      <td>3</td>\n",
       "      <td>1</td>\n",
       "      <td>0</td>\n",
       "      <td>0</td>\n",
       "      <td>-1.514914</td>\n",
       "      <td>0.490741</td>\n",
       "      <td>0.285196</td>\n",
       "      <td>0</td>\n",
       "    </tr>\n",
       "    <tr>\n",
       "      <th>4697</th>\n",
       "      <td>0</td>\n",
       "      <td>1</td>\n",
       "      <td>1</td>\n",
       "      <td>0</td>\n",
       "      <td>0</td>\n",
       "      <td>-0.436670</td>\n",
       "      <td>2.143348</td>\n",
       "      <td>2.471975</td>\n",
       "      <td>1</td>\n",
       "    </tr>\n",
       "    <tr>\n",
       "      <th>4466</th>\n",
       "      <td>0</td>\n",
       "      <td>12</td>\n",
       "      <td>0</td>\n",
       "      <td>1</td>\n",
       "      <td>0</td>\n",
       "      <td>0.042549</td>\n",
       "      <td>-0.175426</td>\n",
       "      <td>-0.395273</td>\n",
       "      <td>1</td>\n",
       "    </tr>\n",
       "    <tr>\n",
       "      <th>...</th>\n",
       "      <td>...</td>\n",
       "      <td>...</td>\n",
       "      <td>...</td>\n",
       "      <td>...</td>\n",
       "      <td>...</td>\n",
       "      <td>...</td>\n",
       "      <td>...</td>\n",
       "      <td>...</td>\n",
       "      <td>...</td>\n",
       "    </tr>\n",
       "    <tr>\n",
       "      <th>372</th>\n",
       "      <td>1</td>\n",
       "      <td>4</td>\n",
       "      <td>0</td>\n",
       "      <td>0</td>\n",
       "      <td>1</td>\n",
       "      <td>0.042549</td>\n",
       "      <td>0.016737</td>\n",
       "      <td>-0.031841</td>\n",
       "      <td>0</td>\n",
       "    </tr>\n",
       "    <tr>\n",
       "      <th>415</th>\n",
       "      <td>1</td>\n",
       "      <td>12</td>\n",
       "      <td>0</td>\n",
       "      <td>1</td>\n",
       "      <td>0</td>\n",
       "      <td>-0.826580</td>\n",
       "      <td>-0.777539</td>\n",
       "      <td>-0.783450</td>\n",
       "      <td>0</td>\n",
       "    </tr>\n",
       "    <tr>\n",
       "      <th>2596</th>\n",
       "      <td>0</td>\n",
       "      <td>5</td>\n",
       "      <td>1</td>\n",
       "      <td>0</td>\n",
       "      <td>0</td>\n",
       "      <td>-0.915889</td>\n",
       "      <td>-0.085750</td>\n",
       "      <td>-0.186493</td>\n",
       "      <td>1</td>\n",
       "    </tr>\n",
       "    <tr>\n",
       "      <th>260</th>\n",
       "      <td>1</td>\n",
       "      <td>4</td>\n",
       "      <td>0</td>\n",
       "      <td>0</td>\n",
       "      <td>1</td>\n",
       "      <td>-0.380035</td>\n",
       "      <td>1.041610</td>\n",
       "      <td>1.171352</td>\n",
       "      <td>0</td>\n",
       "    </tr>\n",
       "    <tr>\n",
       "      <th>29</th>\n",
       "      <td>1</td>\n",
       "      <td>2</td>\n",
       "      <td>1</td>\n",
       "      <td>0</td>\n",
       "      <td>0</td>\n",
       "      <td>0.815835</td>\n",
       "      <td>-0.662241</td>\n",
       "      <td>-0.647356</td>\n",
       "      <td>0</td>\n",
       "    </tr>\n",
       "    <tr>\n",
       "      <th>3818</th>\n",
       "      <td>0</td>\n",
       "      <td>6</td>\n",
       "      <td>0</td>\n",
       "      <td>1</td>\n",
       "      <td>0</td>\n",
       "      <td>0.456420</td>\n",
       "      <td>-0.687863</td>\n",
       "      <td>-0.780357</td>\n",
       "      <td>1</td>\n",
       "    </tr>\n",
       "    <tr>\n",
       "      <th>63</th>\n",
       "      <td>1</td>\n",
       "      <td>3</td>\n",
       "      <td>1</td>\n",
       "      <td>0</td>\n",
       "      <td>0</td>\n",
       "      <td>-0.044582</td>\n",
       "      <td>-0.662241</td>\n",
       "      <td>-0.647356</td>\n",
       "      <td>0</td>\n",
       "    </tr>\n",
       "    <tr>\n",
       "      <th>297</th>\n",
       "      <td>1</td>\n",
       "      <td>9</td>\n",
       "      <td>0</td>\n",
       "      <td>1</td>\n",
       "      <td>0</td>\n",
       "      <td>-0.033690</td>\n",
       "      <td>2.476432</td>\n",
       "      <td>2.516824</td>\n",
       "      <td>0</td>\n",
       "    </tr>\n",
       "    <tr>\n",
       "      <th>1167</th>\n",
       "      <td>0</td>\n",
       "      <td>3</td>\n",
       "      <td>0</td>\n",
       "      <td>0</td>\n",
       "      <td>1</td>\n",
       "      <td>-0.399640</td>\n",
       "      <td>-0.175426</td>\n",
       "      <td>-0.478785</td>\n",
       "      <td>1</td>\n",
       "    </tr>\n",
       "    <tr>\n",
       "      <th>4013</th>\n",
       "      <td>0</td>\n",
       "      <td>3</td>\n",
       "      <td>1</td>\n",
       "      <td>0</td>\n",
       "      <td>0</td>\n",
       "      <td>0.587117</td>\n",
       "      <td>-0.149804</td>\n",
       "      <td>-0.395273</td>\n",
       "      <td>1</td>\n",
       "    </tr>\n",
       "    <tr>\n",
       "      <th>200</th>\n",
       "      <td>1</td>\n",
       "      <td>2</td>\n",
       "      <td>1</td>\n",
       "      <td>0</td>\n",
       "      <td>0</td>\n",
       "      <td>-0.262409</td>\n",
       "      <td>0.298577</td>\n",
       "      <td>0.269730</td>\n",
       "      <td>0</td>\n",
       "    </tr>\n",
       "    <tr>\n",
       "      <th>291</th>\n",
       "      <td>1</td>\n",
       "      <td>1</td>\n",
       "      <td>0</td>\n",
       "      <td>0</td>\n",
       "      <td>1</td>\n",
       "      <td>-1.569370</td>\n",
       "      <td>3.052923</td>\n",
       "      <td>2.654464</td>\n",
       "      <td>0</td>\n",
       "    </tr>\n",
       "    <tr>\n",
       "      <th>3846</th>\n",
       "      <td>0</td>\n",
       "      <td>3</td>\n",
       "      <td>0</td>\n",
       "      <td>0</td>\n",
       "      <td>1</td>\n",
       "      <td>-0.813511</td>\n",
       "      <td>1.554047</td>\n",
       "      <td>1.301259</td>\n",
       "      <td>1</td>\n",
       "    </tr>\n",
       "    <tr>\n",
       "      <th>1668</th>\n",
       "      <td>0</td>\n",
       "      <td>11</td>\n",
       "      <td>1</td>\n",
       "      <td>0</td>\n",
       "      <td>0</td>\n",
       "      <td>0.641573</td>\n",
       "      <td>1.067232</td>\n",
       "      <td>0.486243</td>\n",
       "      <td>1</td>\n",
       "    </tr>\n",
       "    <tr>\n",
       "      <th>5018</th>\n",
       "      <td>0</td>\n",
       "      <td>6</td>\n",
       "      <td>1</td>\n",
       "      <td>0</td>\n",
       "      <td>0</td>\n",
       "      <td>1.240598</td>\n",
       "      <td>-0.277913</td>\n",
       "      <td>-0.186493</td>\n",
       "      <td>1</td>\n",
       "    </tr>\n",
       "    <tr>\n",
       "      <th>309</th>\n",
       "      <td>1</td>\n",
       "      <td>6</td>\n",
       "      <td>0</td>\n",
       "      <td>0</td>\n",
       "      <td>1</td>\n",
       "      <td>-1.591153</td>\n",
       "      <td>-0.713484</td>\n",
       "      <td>-0.580856</td>\n",
       "      <td>0</td>\n",
       "    </tr>\n",
       "    <tr>\n",
       "      <th>824</th>\n",
       "      <td>1</td>\n",
       "      <td>4</td>\n",
       "      <td>1</td>\n",
       "      <td>0</td>\n",
       "      <td>0</td>\n",
       "      <td>1.545555</td>\n",
       "      <td>1.387505</td>\n",
       "      <td>1.301259</td>\n",
       "      <td>0</td>\n",
       "    </tr>\n",
       "    <tr>\n",
       "      <th>1530</th>\n",
       "      <td>0</td>\n",
       "      <td>12</td>\n",
       "      <td>0</td>\n",
       "      <td>0</td>\n",
       "      <td>1</td>\n",
       "      <td>0.632860</td>\n",
       "      <td>-0.687863</td>\n",
       "      <td>-0.690659</td>\n",
       "      <td>1</td>\n",
       "    </tr>\n",
       "    <tr>\n",
       "      <th>904</th>\n",
       "      <td>1</td>\n",
       "      <td>4</td>\n",
       "      <td>1</td>\n",
       "      <td>0</td>\n",
       "      <td>0</td>\n",
       "      <td>0.619791</td>\n",
       "      <td>1.003177</td>\n",
       "      <td>0.936280</td>\n",
       "      <td>0</td>\n",
       "    </tr>\n",
       "    <tr>\n",
       "      <th>511</th>\n",
       "      <td>1</td>\n",
       "      <td>1</td>\n",
       "      <td>1</td>\n",
       "      <td>0</td>\n",
       "      <td>0</td>\n",
       "      <td>0.042549</td>\n",
       "      <td>-0.726295</td>\n",
       "      <td>-0.580856</td>\n",
       "      <td>0</td>\n",
       "    </tr>\n",
       "    <tr>\n",
       "      <th>398</th>\n",
       "      <td>1</td>\n",
       "      <td>4</td>\n",
       "      <td>1</td>\n",
       "      <td>0</td>\n",
       "      <td>0</td>\n",
       "      <td>-1.591153</td>\n",
       "      <td>0.746959</td>\n",
       "      <td>0.971850</td>\n",
       "      <td>0</td>\n",
       "    </tr>\n",
       "    <tr>\n",
       "      <th>2602</th>\n",
       "      <td>0</td>\n",
       "      <td>4</td>\n",
       "      <td>1</td>\n",
       "      <td>0</td>\n",
       "      <td>0</td>\n",
       "      <td>0.674247</td>\n",
       "      <td>-1.238732</td>\n",
       "      <td>-1.145335</td>\n",
       "      <td>1</td>\n",
       "    </tr>\n",
       "    <tr>\n",
       "      <th>2699</th>\n",
       "      <td>0</td>\n",
       "      <td>2</td>\n",
       "      <td>0</td>\n",
       "      <td>0</td>\n",
       "      <td>1</td>\n",
       "      <td>-1.294908</td>\n",
       "      <td>2.079294</td>\n",
       "      <td>1.780680</td>\n",
       "      <td>1</td>\n",
       "    </tr>\n",
       "    <tr>\n",
       "      <th>2619</th>\n",
       "      <td>0</td>\n",
       "      <td>1</td>\n",
       "      <td>1</td>\n",
       "      <td>0</td>\n",
       "      <td>0</td>\n",
       "      <td>0.663356</td>\n",
       "      <td>1.067232</td>\n",
       "      <td>1.327550</td>\n",
       "      <td>1</td>\n",
       "    </tr>\n",
       "    <tr>\n",
       "      <th>236</th>\n",
       "      <td>1</td>\n",
       "      <td>12</td>\n",
       "      <td>0</td>\n",
       "      <td>1</td>\n",
       "      <td>0</td>\n",
       "      <td>0.249485</td>\n",
       "      <td>0.490741</td>\n",
       "      <td>0.286742</td>\n",
       "      <td>0</td>\n",
       "    </tr>\n",
       "    <tr>\n",
       "      <th>1562</th>\n",
       "      <td>0</td>\n",
       "      <td>12</td>\n",
       "      <td>0</td>\n",
       "      <td>0</td>\n",
       "      <td>1</td>\n",
       "      <td>2.166362</td>\n",
       "      <td>0.939123</td>\n",
       "      <td>1.171352</td>\n",
       "      <td>1</td>\n",
       "    </tr>\n",
       "    <tr>\n",
       "      <th>3804</th>\n",
       "      <td>0</td>\n",
       "      <td>4</td>\n",
       "      <td>1</td>\n",
       "      <td>0</td>\n",
       "      <td>0</td>\n",
       "      <td>0.902966</td>\n",
       "      <td>-0.406023</td>\n",
       "      <td>-0.395273</td>\n",
       "      <td>1</td>\n",
       "    </tr>\n",
       "    <tr>\n",
       "      <th>3272</th>\n",
       "      <td>0</td>\n",
       "      <td>8</td>\n",
       "      <td>0</td>\n",
       "      <td>1</td>\n",
       "      <td>0</td>\n",
       "      <td>0.460777</td>\n",
       "      <td>-1.161866</td>\n",
       "      <td>-1.196371</td>\n",
       "      <td>1</td>\n",
       "    </tr>\n",
       "    <tr>\n",
       "      <th>558</th>\n",
       "      <td>1</td>\n",
       "      <td>12</td>\n",
       "      <td>0</td>\n",
       "      <td>0</td>\n",
       "      <td>1</td>\n",
       "      <td>0.804944</td>\n",
       "      <td>-0.457266</td>\n",
       "      <td>-0.520541</td>\n",
       "      <td>0</td>\n",
       "    </tr>\n",
       "    <tr>\n",
       "      <th>806</th>\n",
       "      <td>1</td>\n",
       "      <td>6</td>\n",
       "      <td>0</td>\n",
       "      <td>1</td>\n",
       "      <td>0</td>\n",
       "      <td>0.892074</td>\n",
       "      <td>-0.111372</td>\n",
       "      <td>-0.350424</td>\n",
       "      <td>0</td>\n",
       "    </tr>\n",
       "  </tbody>\n",
       "</table>\n",
       "<p>130 rows × 9 columns</p>\n",
       "</div>"
      ],
      "text/plain": [
       "      canceled  month  uniqueCarrier_AA  uniqueCarrier_DL  uniqueCarrier_UA  \\\n",
       "3726         0      1                 0                 0                 1   \n",
       "2182         0      2                 0                 0                 1   \n",
       "4044         0      9                 1                 0                 0   \n",
       "2513         0      2                 1                 0                 0   \n",
       "5980         0      7                 0                 0                 1   \n",
       "2878         0     12                 0                 0                 1   \n",
       "3407         0      6                 0                 0                 1   \n",
       "507          1      1                 1                 0                 0   \n",
       "189          1     12                 1                 0                 0   \n",
       "1880         0      8                 0                 1                 0   \n",
       "5141         0      7                 0                 0                 1   \n",
       "501          1      1                 0                 0                 1   \n",
       "2929         0      3                 1                 0                 0   \n",
       "279          1      2                 0                 0                 1   \n",
       "3896         0      4                 0                 0                 1   \n",
       "847          1      7                 0                 0                 1   \n",
       "609          1      2                 1                 0                 0   \n",
       "4765         0      9                 1                 0                 0   \n",
       "602          1     11                 1                 0                 0   \n",
       "606          1      8                 0                 1                 0   \n",
       "57           1      7                 1                 0                 0   \n",
       "4320         0      2                 0                 1                 0   \n",
       "971          1      6                 1                 0                 0   \n",
       "4327         0      5                 0                 0                 1   \n",
       "3509         0     12                 0                 0                 1   \n",
       "539          1     10                 1                 0                 0   \n",
       "572          1      7                 0                 0                 1   \n",
       "565          1      3                 1                 0                 0   \n",
       "4697         0      1                 1                 0                 0   \n",
       "4466         0     12                 0                 1                 0   \n",
       "...        ...    ...               ...               ...               ...   \n",
       "372          1      4                 0                 0                 1   \n",
       "415          1     12                 0                 1                 0   \n",
       "2596         0      5                 1                 0                 0   \n",
       "260          1      4                 0                 0                 1   \n",
       "29           1      2                 1                 0                 0   \n",
       "3818         0      6                 0                 1                 0   \n",
       "63           1      3                 1                 0                 0   \n",
       "297          1      9                 0                 1                 0   \n",
       "1167         0      3                 0                 0                 1   \n",
       "4013         0      3                 1                 0                 0   \n",
       "200          1      2                 1                 0                 0   \n",
       "291          1      1                 0                 0                 1   \n",
       "3846         0      3                 0                 0                 1   \n",
       "1668         0     11                 1                 0                 0   \n",
       "5018         0      6                 1                 0                 0   \n",
       "309          1      6                 0                 0                 1   \n",
       "824          1      4                 1                 0                 0   \n",
       "1530         0     12                 0                 0                 1   \n",
       "904          1      4                 1                 0                 0   \n",
       "511          1      1                 1                 0                 0   \n",
       "398          1      4                 1                 0                 0   \n",
       "2602         0      4                 1                 0                 0   \n",
       "2699         0      2                 0                 0                 1   \n",
       "2619         0      1                 1                 0                 0   \n",
       "236          1     12                 0                 1                 0   \n",
       "1562         0     12                 0                 0                 1   \n",
       "3804         0      4                 1                 0                 0   \n",
       "3272         0      8                 0                 1                 0   \n",
       "558          1     12                 0                 0                 1   \n",
       "806          1      6                 0                 1                 0   \n",
       "\n",
       "      departureTime_scaled  schedElapsedTime_scaled  distance_scaled  \\\n",
       "3726              1.022771                -0.290724        -0.186493   \n",
       "2182             -0.502018                -0.431644        -0.393727   \n",
       "4044              0.009875                 0.106414         0.178486   \n",
       "2513             -0.937672                 2.796705         2.300311   \n",
       "5980              1.066336                -0.444455        -0.590135   \n",
       "2878             -0.595684                -0.252292        -0.393727   \n",
       "3407              0.815835                -0.239481        -0.393727   \n",
       "507               0.467312                 1.387505         0.888338   \n",
       "189               0.184137                 1.195341         0.620790   \n",
       "1880              0.271268                 0.234523         0.136730   \n",
       "5141              0.933462                -0.546943        -0.596321   \n",
       "501               1.022771                 0.157657        -0.186493   \n",
       "2929             -1.591153                -0.149804         0.104253   \n",
       "279              -1.517092                 0.067981         0.037752   \n",
       "3896              1.467138                -0.136993        -0.287017   \n",
       "847              -1.591153                -0.828783        -0.888613   \n",
       "609              -0.643606                -0.341968        -0.526727   \n",
       "4765             -0.621823                -0.726295        -0.647356   \n",
       "602              -1.591153                -0.341968        -0.551472   \n",
       "606              -1.373326                -0.867215        -0.842218   \n",
       "57                1.273272                 0.298577         0.376440   \n",
       "4320              0.247307                -1.213110        -1.176266   \n",
       "971               0.238594                -0.085750        -0.090609   \n",
       "4327             -0.634893                -0.162615        -0.061225   \n",
       "3509              0.929105                 2.514865         2.038949   \n",
       "539              -1.079260                 0.618850         0.620790   \n",
       "572               0.831083                -0.956892        -1.006149   \n",
       "565              -1.514914                 0.490741         0.285196   \n",
       "4697             -0.436670                 2.143348         2.471975   \n",
       "4466              0.042549                -0.175426        -0.395273   \n",
       "...                    ...                      ...              ...   \n",
       "372               0.042549                 0.016737        -0.031841   \n",
       "415              -0.826580                -0.777539        -0.783450   \n",
       "2596             -0.915889                -0.085750        -0.186493   \n",
       "260              -0.380035                 1.041610         1.171352   \n",
       "29                0.815835                -0.662241        -0.647356   \n",
       "3818              0.456420                -0.687863        -0.780357   \n",
       "63               -0.044582                -0.662241        -0.647356   \n",
       "297              -0.033690                 2.476432         2.516824   \n",
       "1167             -0.399640                -0.175426        -0.478785   \n",
       "4013              0.587117                -0.149804        -0.395273   \n",
       "200              -0.262409                 0.298577         0.269730   \n",
       "291              -1.569370                 3.052923         2.654464   \n",
       "3846             -0.813511                 1.554047         1.301259   \n",
       "1668              0.641573                 1.067232         0.486243   \n",
       "5018              1.240598                -0.277913        -0.186493   \n",
       "309              -1.591153                -0.713484        -0.580856   \n",
       "824               1.545555                 1.387505         1.301259   \n",
       "1530              0.632860                -0.687863        -0.690659   \n",
       "904               0.619791                 1.003177         0.936280   \n",
       "511               0.042549                -0.726295        -0.580856   \n",
       "398              -1.591153                 0.746959         0.971850   \n",
       "2602              0.674247                -1.238732        -1.145335   \n",
       "2699             -1.294908                 2.079294         1.780680   \n",
       "2619              0.663356                 1.067232         1.327550   \n",
       "236               0.249485                 0.490741         0.286742   \n",
       "1562              2.166362                 0.939123         1.171352   \n",
       "3804              0.902966                -0.406023        -0.395273   \n",
       "3272              0.460777                -1.161866        -1.196371   \n",
       "558               0.804944                -0.457266        -0.520541   \n",
       "806               0.892074                -0.111372        -0.350424   \n",
       "\n",
       "      canceled_pred  \n",
       "3726              1  \n",
       "2182              1  \n",
       "4044              1  \n",
       "2513              1  \n",
       "5980              1  \n",
       "2878              1  \n",
       "3407              1  \n",
       "507               0  \n",
       "189               0  \n",
       "1880              1  \n",
       "5141              1  \n",
       "501               0  \n",
       "2929              1  \n",
       "279               0  \n",
       "3896              1  \n",
       "847               0  \n",
       "609               0  \n",
       "4765              1  \n",
       "602               0  \n",
       "606               0  \n",
       "57                0  \n",
       "4320              1  \n",
       "971               0  \n",
       "4327              1  \n",
       "3509              1  \n",
       "539               0  \n",
       "572               0  \n",
       "565               0  \n",
       "4697              1  \n",
       "4466              1  \n",
       "...             ...  \n",
       "372               0  \n",
       "415               0  \n",
       "2596              1  \n",
       "260               0  \n",
       "29                0  \n",
       "3818              1  \n",
       "63                0  \n",
       "297               0  \n",
       "1167              1  \n",
       "4013              1  \n",
       "200               0  \n",
       "291               0  \n",
       "3846              1  \n",
       "1668              1  \n",
       "5018              1  \n",
       "309               0  \n",
       "824               0  \n",
       "1530              1  \n",
       "904               0  \n",
       "511               0  \n",
       "398               0  \n",
       "2602              1  \n",
       "2699              1  \n",
       "2619              1  \n",
       "236               0  \n",
       "1562              1  \n",
       "3804              1  \n",
       "3272              1  \n",
       "558               0  \n",
       "806               0  \n",
       "\n",
       "[130 rows x 9 columns]"
      ]
     },
     "execution_count": 446,
     "metadata": {},
     "output_type": "execute_result"
    }
   ],
   "source": [
    "bad_cases"
   ]
  },
  {
   "cell_type": "markdown",
   "metadata": {},
   "source": [
    "#### data discretization"
   ]
  },
  {
   "cell_type": "code",
   "execution_count": null,
   "metadata": {
    "collapsed": true
   },
   "outputs": [],
   "source": [
    "# s=pd.cut(x,bins=[0,10,20,30])  \n",
    "# d=pd.get_dummies(s)  "
   ]
  },
  {
   "cell_type": "code",
   "execution_count": 457,
   "metadata": {
    "collapsed": false
   },
   "outputs": [
    {
     "name": "stderr",
     "output_type": "stream",
     "text": [
      "/Users/feiyiwang/Library/Enthought/Canopy/edm/envs/User/lib/python2.7/site-packages/ipykernel/__main__.py:2: SettingWithCopyWarning: \n",
      "A value is trying to be set on a copy of a slice from a DataFrame.\n",
      "Try using .loc[row_indexer,col_indexer] = value instead\n",
      "\n",
      "See the caveats in the documentation: http://pandas.pydata.org/pandas-docs/stable/indexing.html#indexing-view-versus-copy\n",
      "  from ipykernel import kernelapp as app\n"
     ]
    }
   ],
   "source": [
    "train['carrierMonth'] = train.month.map(str) + train.uniqueCarrier_AA.map(str) \\\n",
    "    + train.uniqueCarrier_DL.map(str) + train.uniqueCarrier_UA.map(str)\n",
    "test['carrierMonth'] = test.month.map(str) + test.uniqueCarrier_AA.map(str) \\\n",
    "    + test.uniqueCarrier_DL.map(str) + test.uniqueCarrier_UA.map(str)"
   ]
  },
  {
   "cell_type": "code",
   "execution_count": 458,
   "metadata": {
    "collapsed": false
   },
   "outputs": [],
   "source": [
    "train = pd.get_dummies(train,columns=['carrierMonth'],drop_first=False)\n",
    "test = pd.get_dummies(test,columns=['carrierMonth'],drop_first=False)"
   ]
  },
  {
   "cell_type": "code",
   "execution_count": 484,
   "metadata": {
    "collapsed": false,
    "scrolled": true
   },
   "outputs": [
    {
     "data": {
      "text/plain": [
       "Index([u'canceled', u'departureTime_scaled', u'schedElapsedTime_scaled',\n",
       "       u'distance_scaled', u'carrierMonth_10001', u'carrierMonth_1001',\n",
       "       u'carrierMonth_10010', u'carrierMonth_1010', u'carrierMonth_10100',\n",
       "       u'carrierMonth_1100', u'carrierMonth_11001', u'carrierMonth_11010',\n",
       "       u'carrierMonth_11100', u'carrierMonth_12001', u'carrierMonth_12010',\n",
       "       u'carrierMonth_12100', u'carrierMonth_2001', u'carrierMonth_2010',\n",
       "       u'carrierMonth_2100', u'carrierMonth_3001', u'carrierMonth_3010',\n",
       "       u'carrierMonth_3100', u'carrierMonth_4001', u'carrierMonth_4010',\n",
       "       u'carrierMonth_4100', u'carrierMonth_5001', u'carrierMonth_5010',\n",
       "       u'carrierMonth_5100', u'carrierMonth_6001', u'carrierMonth_6010',\n",
       "       u'carrierMonth_6100', u'carrierMonth_7001', u'carrierMonth_7010',\n",
       "       u'carrierMonth_7100', u'carrierMonth_8001', u'carrierMonth_8010',\n",
       "       u'carrierMonth_8100', u'carrierMonth_9001', u'carrierMonth_9010',\n",
       "       u'carrierMonth_9100'],\n",
       "      dtype='object')"
      ]
     },
     "execution_count": 484,
     "metadata": {},
     "output_type": "execute_result"
    }
   ],
   "source": [
    "train.columns"
   ]
  },
  {
   "cell_type": "code",
   "execution_count": 478,
   "metadata": {
    "collapsed": false
   },
   "outputs": [],
   "source": [
    "# train = train.iloc[:, :40] # don't dummy twice, or these cols will be appended twice"
   ]
  },
  {
   "cell_type": "code",
   "execution_count": 462,
   "metadata": {
    "collapsed": false
   },
   "outputs": [],
   "source": [
    "train1 = train.drop(['month','uniqueCarrier_AA', 'uniqueCarrier_DL','uniqueCarrier_UA'], axis=1)\n",
    "test1 = test.drop(['month','uniqueCarrier_AA', 'uniqueCarrier_DL','uniqueCarrier_UA','canceled_pred'], axis=1)\n",
    "# test = test.filter(regex='canceled|departureTime_scaled|schedElapsedTime_scaled|distance_scaled|carrierMonth_.*')"
   ]
  },
  {
   "cell_type": "code",
   "execution_count": 485,
   "metadata": {
    "collapsed": false
   },
   "outputs": [],
   "source": [
    "train1 = shuffle(train1)"
   ]
  },
  {
   "cell_type": "code",
   "execution_count": 486,
   "metadata": {
    "collapsed": true
   },
   "outputs": [],
   "source": [
    "X_train4 = train1.as_matrix()[:,1:]\n",
    "y_train4 = train1.as_matrix()[:,0]\n",
    "X_test1 = test1.as_matrix()[:,1:]\n",
    "y_test1 = test1.as_matrix()[:,0]"
   ]
  },
  {
   "cell_type": "code",
   "execution_count": 490,
   "metadata": {
    "collapsed": false
   },
   "outputs": [
    {
     "data": {
      "text/plain": [
       "6.324555320336759"
      ]
     },
     "execution_count": 490,
     "metadata": {},
     "output_type": "execute_result"
    }
   ],
   "source": [
    "len(train.columns)**(1/2.)"
   ]
  },
  {
   "cell_type": "code",
   "execution_count": 492,
   "metadata": {
    "collapsed": false,
    "deletable": true,
    "editable": true
   },
   "outputs": [
    {
     "name": "stdout",
     "output_type": "stream",
     "text": [
      "Train Set Accuracy : 0.987\n",
      "Train Set Accuracy : 0.8\n",
      "AUC Score (Train): 0.999398\n"
     ]
    }
   ],
   "source": [
    "gbc3 = GradientBoostingClassifier(n_estimators=1000,max_depth=7,max_features=6)\n",
    "gbc3.fit(X_train4,y_train4)\n",
    "print \"Train Set Accuracy : %.4g\" % accuracy_score(y_train4, gbc3.predict(X_train4))\n",
    "print \"Train Set Accuracy : %.4g\" % accuracy_score(y_test1, gbc3.predict(X_test1))\n",
    "print \"AUC Score (Train): %f\" % roc_auc_score(y_train4, [p[1] for p in gbc3.predict_proba(X_train4)]) "
   ]
  },
  {
   "cell_type": "code",
   "execution_count": 493,
   "metadata": {
    "collapsed": false,
    "scrolled": true
   },
   "outputs": [
    {
     "name": "stderr",
     "output_type": "stream",
     "text": [
      "/Users/feiyiwang/Library/Enthought/Canopy/edm/envs/User/lib/python2.7/site-packages/ipykernel/__main__.py:2: FutureWarning: sort(columns=....) is deprecated, use sort_values(by=.....)\n",
      "  from ipykernel import kernelapp as app\n"
     ]
    },
    {
     "data": {
      "text/html": [
       "<div>\n",
       "<table border=\"1\" class=\"dataframe\">\n",
       "  <thead>\n",
       "    <tr style=\"text-align: right;\">\n",
       "      <th></th>\n",
       "      <th>columns</th>\n",
       "      <th>importance</th>\n",
       "    </tr>\n",
       "  </thead>\n",
       "  <tbody>\n",
       "    <tr>\n",
       "      <th>0</th>\n",
       "      <td>departureTime_scaled</td>\n",
       "      <td>0.354018</td>\n",
       "    </tr>\n",
       "    <tr>\n",
       "      <th>2</th>\n",
       "      <td>distance_scaled</td>\n",
       "      <td>0.290513</td>\n",
       "    </tr>\n",
       "    <tr>\n",
       "      <th>1</th>\n",
       "      <td>schedElapsedTime_scaled</td>\n",
       "      <td>0.274880</td>\n",
       "    </tr>\n",
       "    <tr>\n",
       "      <th>30</th>\n",
       "      <td>carrierMonth_7001</td>\n",
       "      <td>0.005093</td>\n",
       "    </tr>\n",
       "    <tr>\n",
       "      <th>35</th>\n",
       "      <td>carrierMonth_8100</td>\n",
       "      <td>0.004765</td>\n",
       "    </tr>\n",
       "    <tr>\n",
       "      <th>23</th>\n",
       "      <td>carrierMonth_4100</td>\n",
       "      <td>0.004245</td>\n",
       "    </tr>\n",
       "    <tr>\n",
       "      <th>8</th>\n",
       "      <td>carrierMonth_1100</td>\n",
       "      <td>0.004065</td>\n",
       "    </tr>\n",
       "    <tr>\n",
       "      <th>14</th>\n",
       "      <td>carrierMonth_12100</td>\n",
       "      <td>0.003699</td>\n",
       "    </tr>\n",
       "    <tr>\n",
       "      <th>18</th>\n",
       "      <td>carrierMonth_3001</td>\n",
       "      <td>0.003507</td>\n",
       "    </tr>\n",
       "    <tr>\n",
       "      <th>20</th>\n",
       "      <td>carrierMonth_3100</td>\n",
       "      <td>0.003081</td>\n",
       "    </tr>\n",
       "    <tr>\n",
       "      <th>13</th>\n",
       "      <td>carrierMonth_12010</td>\n",
       "      <td>0.003075</td>\n",
       "    </tr>\n",
       "    <tr>\n",
       "      <th>29</th>\n",
       "      <td>carrierMonth_6100</td>\n",
       "      <td>0.002949</td>\n",
       "    </tr>\n",
       "    <tr>\n",
       "      <th>24</th>\n",
       "      <td>carrierMonth_5001</td>\n",
       "      <td>0.002862</td>\n",
       "    </tr>\n",
       "    <tr>\n",
       "      <th>6</th>\n",
       "      <td>carrierMonth_1010</td>\n",
       "      <td>0.002805</td>\n",
       "    </tr>\n",
       "    <tr>\n",
       "      <th>31</th>\n",
       "      <td>carrierMonth_7010</td>\n",
       "      <td>0.002653</td>\n",
       "    </tr>\n",
       "    <tr>\n",
       "      <th>12</th>\n",
       "      <td>carrierMonth_12001</td>\n",
       "      <td>0.002482</td>\n",
       "    </tr>\n",
       "    <tr>\n",
       "      <th>21</th>\n",
       "      <td>carrierMonth_4001</td>\n",
       "      <td>0.002473</td>\n",
       "    </tr>\n",
       "    <tr>\n",
       "      <th>27</th>\n",
       "      <td>carrierMonth_6001</td>\n",
       "      <td>0.002452</td>\n",
       "    </tr>\n",
       "    <tr>\n",
       "      <th>33</th>\n",
       "      <td>carrierMonth_8001</td>\n",
       "      <td>0.002422</td>\n",
       "    </tr>\n",
       "    <tr>\n",
       "      <th>4</th>\n",
       "      <td>carrierMonth_1001</td>\n",
       "      <td>0.002419</td>\n",
       "    </tr>\n",
       "    <tr>\n",
       "      <th>26</th>\n",
       "      <td>carrierMonth_5100</td>\n",
       "      <td>0.002382</td>\n",
       "    </tr>\n",
       "    <tr>\n",
       "      <th>15</th>\n",
       "      <td>carrierMonth_2001</td>\n",
       "      <td>0.002228</td>\n",
       "    </tr>\n",
       "    <tr>\n",
       "      <th>17</th>\n",
       "      <td>carrierMonth_2100</td>\n",
       "      <td>0.002223</td>\n",
       "    </tr>\n",
       "    <tr>\n",
       "      <th>16</th>\n",
       "      <td>carrierMonth_2010</td>\n",
       "      <td>0.002204</td>\n",
       "    </tr>\n",
       "    <tr>\n",
       "      <th>28</th>\n",
       "      <td>carrierMonth_6010</td>\n",
       "      <td>0.002127</td>\n",
       "    </tr>\n",
       "    <tr>\n",
       "      <th>38</th>\n",
       "      <td>carrierMonth_9100</td>\n",
       "      <td>0.002122</td>\n",
       "    </tr>\n",
       "    <tr>\n",
       "      <th>32</th>\n",
       "      <td>carrierMonth_7100</td>\n",
       "      <td>0.001987</td>\n",
       "    </tr>\n",
       "    <tr>\n",
       "      <th>19</th>\n",
       "      <td>carrierMonth_3010</td>\n",
       "      <td>0.001128</td>\n",
       "    </tr>\n",
       "    <tr>\n",
       "      <th>10</th>\n",
       "      <td>carrierMonth_11010</td>\n",
       "      <td>0.001088</td>\n",
       "    </tr>\n",
       "    <tr>\n",
       "      <th>11</th>\n",
       "      <td>carrierMonth_11100</td>\n",
       "      <td>0.001044</td>\n",
       "    </tr>\n",
       "    <tr>\n",
       "      <th>22</th>\n",
       "      <td>carrierMonth_4010</td>\n",
       "      <td>0.001021</td>\n",
       "    </tr>\n",
       "    <tr>\n",
       "      <th>34</th>\n",
       "      <td>carrierMonth_8010</td>\n",
       "      <td>0.000896</td>\n",
       "    </tr>\n",
       "    <tr>\n",
       "      <th>36</th>\n",
       "      <td>carrierMonth_9001</td>\n",
       "      <td>0.000875</td>\n",
       "    </tr>\n",
       "    <tr>\n",
       "      <th>5</th>\n",
       "      <td>carrierMonth_10010</td>\n",
       "      <td>0.000759</td>\n",
       "    </tr>\n",
       "    <tr>\n",
       "      <th>3</th>\n",
       "      <td>carrierMonth_10001</td>\n",
       "      <td>0.000752</td>\n",
       "    </tr>\n",
       "    <tr>\n",
       "      <th>25</th>\n",
       "      <td>carrierMonth_5010</td>\n",
       "      <td>0.000732</td>\n",
       "    </tr>\n",
       "    <tr>\n",
       "      <th>7</th>\n",
       "      <td>carrierMonth_10100</td>\n",
       "      <td>0.000725</td>\n",
       "    </tr>\n",
       "    <tr>\n",
       "      <th>37</th>\n",
       "      <td>carrierMonth_9010</td>\n",
       "      <td>0.000689</td>\n",
       "    </tr>\n",
       "    <tr>\n",
       "      <th>9</th>\n",
       "      <td>carrierMonth_11001</td>\n",
       "      <td>0.000561</td>\n",
       "    </tr>\n",
       "  </tbody>\n",
       "</table>\n",
       "</div>"
      ],
      "text/plain": [
       "                    columns  importance\n",
       "0      departureTime_scaled    0.354018\n",
       "2           distance_scaled    0.290513\n",
       "1   schedElapsedTime_scaled    0.274880\n",
       "30        carrierMonth_7001    0.005093\n",
       "35        carrierMonth_8100    0.004765\n",
       "23        carrierMonth_4100    0.004245\n",
       "8         carrierMonth_1100    0.004065\n",
       "14       carrierMonth_12100    0.003699\n",
       "18        carrierMonth_3001    0.003507\n",
       "20        carrierMonth_3100    0.003081\n",
       "13       carrierMonth_12010    0.003075\n",
       "29        carrierMonth_6100    0.002949\n",
       "24        carrierMonth_5001    0.002862\n",
       "6         carrierMonth_1010    0.002805\n",
       "31        carrierMonth_7010    0.002653\n",
       "12       carrierMonth_12001    0.002482\n",
       "21        carrierMonth_4001    0.002473\n",
       "27        carrierMonth_6001    0.002452\n",
       "33        carrierMonth_8001    0.002422\n",
       "4         carrierMonth_1001    0.002419\n",
       "26        carrierMonth_5100    0.002382\n",
       "15        carrierMonth_2001    0.002228\n",
       "17        carrierMonth_2100    0.002223\n",
       "16        carrierMonth_2010    0.002204\n",
       "28        carrierMonth_6010    0.002127\n",
       "38        carrierMonth_9100    0.002122\n",
       "32        carrierMonth_7100    0.001987\n",
       "19        carrierMonth_3010    0.001128\n",
       "10       carrierMonth_11010    0.001088\n",
       "11       carrierMonth_11100    0.001044\n",
       "22        carrierMonth_4010    0.001021\n",
       "34        carrierMonth_8010    0.000896\n",
       "36        carrierMonth_9001    0.000875\n",
       "5        carrierMonth_10010    0.000759\n",
       "3        carrierMonth_10001    0.000752\n",
       "25        carrierMonth_5010    0.000732\n",
       "7        carrierMonth_10100    0.000725\n",
       "37        carrierMonth_9010    0.000689\n",
       "9        carrierMonth_11001    0.000561"
      ]
     },
     "execution_count": 493,
     "metadata": {},
     "output_type": "execute_result"
    }
   ],
   "source": [
    "fi4 = gbc3.feature_importances_\n",
    "pd.DataFrame({\"columns\":list(train.columns)[1:], \"importance\":list(fi4.T)}).sort('importance',ascending=0)"
   ]
  },
  {
   "cell_type": "markdown",
   "metadata": {},
   "source": [
    "#### Precision-Recall曲线"
   ]
  },
  {
   "cell_type": "code",
   "execution_count": 520,
   "metadata": {
    "collapsed": false
   },
   "outputs": [],
   "source": [
    "from sklearn.metrics import confusion_matrix"
   ]
  },
  {
   "cell_type": "code",
   "execution_count": 521,
   "metadata": {
    "collapsed": true
   },
   "outputs": [],
   "source": [
    "def plot_confusion_matrix(cm, classes,\n",
    "                          normalize=False,\n",
    "                          title='Confusion matrix',\n",
    "                          cmap=plt.cm.Blues):\n",
    "    \"\"\"\n",
    "    This function prints and plots the confusion matrix.\n",
    "    Normalization can be applied by setting `normalize=True`.\n",
    "    \"\"\"\n",
    "    if normalize:\n",
    "        cm = cm.astype('float') / cm.sum(axis=1)[:, np.newaxis]\n",
    "        print(\"Normalized confusion matrix\")\n",
    "    else:\n",
    "        print('Confusion matrix, without normalization')\n",
    "\n",
    "    print(cm)\n",
    "\n",
    "    plt.imshow(cm, interpolation='nearest', cmap=cmap)\n",
    "    plt.title(title)\n",
    "    plt.colorbar()\n",
    "    tick_marks = np.arange(len(classes))\n",
    "    plt.xticks(tick_marks, classes, rotation=0)\n",
    "    plt.yticks(tick_marks, classes)\n",
    "\n",
    "    fmt = '.2f' if normalize else 'd'\n",
    "    thresh = cm.max() / 2.\n",
    "#     for i, j in itertools.product(range(cm.shape[0]), range(cm.shape[1])):\n",
    "#         plt.text(j, i, format(cm[i, j], fmt),\n",
    "#                  horizontalalignment=\"center\",\n",
    "#                  color=\"white\" if cm[i, j] > thresh else \"black\")\n",
    "\n",
    "    plt.tight_layout()\n",
    "    plt.ylabel('True label')\n",
    "    plt.xlabel('Predicted label')"
   ]
  },
  {
   "cell_type": "code",
   "execution_count": 522,
   "metadata": {
    "collapsed": false
   },
   "outputs": [
    {
     "name": "stdout",
     "output_type": "stream",
     "text": [
      "Confusion matrix, without normalization\n",
      "[[463  47]\n",
      " [ 73  17]]\n"
     ]
    },
    {
     "data": {
      "image/png": "[encoded data removed]",
      "text/plain": [
       "<matplotlib.figure.Figure at 0x104575e90>"
      ]
     },
     "metadata": {},
     "output_type": "display_data"
    }
   ],
   "source": [
    "# Compute confusion matrix\n",
    "cnf_matrix = confusion_matrix(y_test1, gbc3.predict(X_test1))\n",
    "np.set_printoptions(precision=2)\n",
    "\n",
    "# Plot non-normalized confusion matrix\n",
    "plt.figure()\n",
    "plot_confusion_matrix(cnf_matrix, classes=[0,1],\n",
    "                      title='Confusion matrix, without normalization')\n",
    "\n",
    "# # Plot normalized confusion matrix\n",
    "# plt.figure()\n",
    "# plot_confusion_matrix(cnf_matrix, classes=class_names, normalize=True,\n",
    "#                       title='Normalized confusion matrix')\n",
    "\n",
    "plt.show()"
   ]
  },
  {
   "cell_type": "code",
   "execution_count": 530,
   "metadata": {
    "collapsed": false
   },
   "outputs": [],
   "source": [
    "from sklearn.metrics import average_precision_score\n",
    "average_precision = average_precision_score(y_test1, gbc3.predict(X_test1))"
   ]
  },
  {
   "cell_type": "code",
   "execution_count": 533,
   "metadata": {
    "collapsed": false
   },
   "outputs": [],
   "source": [
    "from sklearn.metrics import precision_recall_curve"
   ]
  },
  {
   "cell_type": "code",
   "execution_count": 535,
   "metadata": {
    "collapsed": false
   },
   "outputs": [
    {
     "data": {
      "image/png": "[encoded data removed]",
      "text/plain": [
       "<matplotlib.figure.Figure at 0x11b241210>"
      ]
     },
     "metadata": {},
     "output_type": "display_data"
    }
   ],
   "source": [
    "precision, recall, _ = precision_recall_curve(y_test1, gbc3.predict(X_test1))\n",
    "\n",
    "plt.step(recall, precision, color='b', alpha=0.2,\n",
    "         where='post')\n",
    "plt.fill_between(recall, precision, step='post', alpha=0.2,\n",
    "                 color='b')\n",
    "\n",
    "plt.xlabel('Recall')\n",
    "plt.ylabel('Precision')\n",
    "plt.ylim([0.0, 1.05])\n",
    "plt.xlim([0.0, 1.05])\n",
    "plt.title('2-class Precision-Recall curve: AP={0:0.2f}'.format(average_precision))\n",
    "plt.show()"
   ]
  },
  {
   "cell_type": "code",
   "execution_count": 212,
   "metadata": {
    "collapsed": true
   },
   "outputs": [],
   "source": [
    "import random\n",
    "from sklearn.neighbors import NearestNeighbors\n",
    "\n",
    "class Smote:\n",
    "    def __init__(self,samples,N=10,k=5):\n",
    "        self.n_samples,self.n_attrs=samples.shape\n",
    "        self.N=N\n",
    "        self.k=k\n",
    "        self.samples=samples\n",
    "        self.newindex=0\n",
    "       # self.synthetic=np.zeros((self.n_samples*N,self.n_attrs))\n",
    "\n",
    "    def over_sampling(self):\n",
    "        N=int(self.N/100)\n",
    "        self.synthetic = np.zeros((self.n_samples * N, self.n_attrs))\n",
    "        neighbors=NearestNeighbors(n_neighbors=self.k).fit(self.samples)\n",
    "        print 'neighbors',neighbors\n",
    "        for i in range(len(self.samples)):\n",
    "            nnarray=neighbors.kneighbors(self.samples[i].reshape(1,-1),return_distance=False)[0]\n",
    "            #print nnarray\n",
    "            self._populate(N,i,nnarray)\n",
    "        return self.synthetic\n",
    "\n",
    "\n",
    "    # for each minority class samples,choose N of the k nearest neighbors and generate N synthetic samples.\n",
    "    def _populate(self,N,i,nnarray):\n",
    "        for j in range(N):\n",
    "            nn=random.randint(0,self.k-1)\n",
    "            dif=self.samples[nnarray[nn]]-self.samples[i]\n",
    "            gap=random.random()\n",
    "            self.synthetic[self.newindex]=self.samples[i]+gap*dif\n",
    "            self.newindex+=1"
   ]
  }
 ],
 "metadata": {
  "kernelspec": {
   "display_name": "Python 2",
   "language": "python",
   "name": "python2"
  },
  "language_info": {
   "codemirror_mode": {
    "name": "ipython",
    "version": 2
   },
   "file_extension": ".py",
   "mimetype": "text/x-python",
   "name": "python",
   "nbconvert_exporter": "python",
   "pygments_lexer": "ipython2",
   "version": "2.7.13"
  }
 },
 "nbformat": 4,
 "nbformat_minor": 2
}
